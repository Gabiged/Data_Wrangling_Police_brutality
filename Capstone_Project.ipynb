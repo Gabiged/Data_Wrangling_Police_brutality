{
 "cells": [
  {
   "cell_type": "markdown",
   "id": "7853f0b3",
   "metadata": {},
   "source": [
    "# Fatal Police Shooting in the United States"
   ]
  },
  {
   "cell_type": "markdown",
   "id": "65b69267",
   "metadata": {},
   "source": [
    "Investigate fatal police shootings throughout the United States of America, provide a list of issues, and propose a plan on how to tackle these issues."
   ]
  },
  {
   "cell_type": "markdown",
   "id": "9ea71c1b",
   "metadata": {},
   "source": [
    "Requirements: <br>\n",
    "* Perform data cleaning and feature engineering. Work with features - handle missing data if needed, use Pandas date APIs, create other additional features.<br>\n",
    "* Perform exploratory data analysis. Describe the data with basic statistical parameters - mean, median, quantiles, etc. Use parameters that give you the most important statistical insights of the data. Grouping the data and analyzing the groups - using Pandas aggregate methods. Visualize the data - you can use line, scatter, histogram plots, density plots, regplots, etc.<br>\n",
    "* Provide clear explanations in your notebook. Your explanations should inform the reader what you are trying to achieve, what results did you get, and what these results mean.<br>\n",
    "* Present the project - the data, methods, and results.<br>\n",
    "* Provide suggestions about how your analysis can be improved."
   ]
  },
  {
   "cell_type": "markdown",
   "id": "91dfe8fe",
   "metadata": {},
   "source": [
    "**Hypothesis:** the database reflects the criminogenic situation in society, so I have put forward a series of key questions to identify the causes of police brutality:<br>\n",
    "* whether the number of victims reflects the current unemployment rate in the country;<br>\n",
    "* whether the number of victims is linked to low hourly wages, which could reflect the general level of well-being in the country.<br>\n",
    "* whether the number of victims is related to race;<br>\n",
    "* whether police brutality can be seen as a solution to a dangerous situation;<br>\n",
    "* what preventive measures can be offered in the workplace to reduce the number of fatal incidents."
   ]
  },
  {
   "cell_type": "code",
   "execution_count": 63,
   "id": "96bfba84",
   "metadata": {},
   "outputs": [
    {
     "data": {
      "application/javascript": [
       "\n",
       "            setTimeout(function() {\n",
       "                var nbb_cell_id = 63;\n",
       "                var nbb_unformatted_code = \"import matplotlib.pyplot as plt\\nimport numpy as np\\nimport pandas as pd\\nimport seaborn as sns\\nfrom collections import Counter\";\n",
       "                var nbb_formatted_code = \"import matplotlib.pyplot as plt\\nimport numpy as np\\nimport pandas as pd\\nimport seaborn as sns\\nfrom collections import Counter\";\n",
       "                var nbb_cells = Jupyter.notebook.get_cells();\n",
       "                for (var i = 0; i < nbb_cells.length; ++i) {\n",
       "                    if (nbb_cells[i].input_prompt_number == nbb_cell_id) {\n",
       "                        if (nbb_cells[i].get_text() == nbb_unformatted_code) {\n",
       "                             nbb_cells[i].set_text(nbb_formatted_code);\n",
       "                        }\n",
       "                        break;\n",
       "                    }\n",
       "                }\n",
       "            }, 500);\n",
       "            "
      ],
      "text/plain": [
       "<IPython.core.display.Javascript object>"
      ]
     },
     "metadata": {},
     "output_type": "display_data"
    }
   ],
   "source": [
    "import matplotlib.pyplot as plt\n",
    "import numpy as np\n",
    "import pandas as pd\n",
    "import seaborn as sns\n",
    "from collections import Counter"
   ]
  },
  {
   "cell_type": "markdown",
   "id": "e9230427",
   "metadata": {},
   "source": [
    "* The dataset is from: https://www.kaggle.com/datasets/washingtonpost/police-shootings"
   ]
  },
  {
   "cell_type": "markdown",
   "id": "0bbd0ddd",
   "metadata": {},
   "source": [
    "## Data Exploration"
   ]
  },
  {
   "cell_type": "code",
   "execution_count": 77,
   "id": "137af8f0",
   "metadata": {},
   "outputs": [
    {
     "data": {
      "text/html": [
       "<div>\n",
       "<style scoped>\n",
       "    .dataframe tbody tr th:only-of-type {\n",
       "        vertical-align: middle;\n",
       "    }\n",
       "\n",
       "    .dataframe tbody tr th {\n",
       "        vertical-align: top;\n",
       "    }\n",
       "\n",
       "    .dataframe thead th {\n",
       "        text-align: right;\n",
       "    }\n",
       "</style>\n",
       "<table border=\"1\" class=\"dataframe\">\n",
       "  <thead>\n",
       "    <tr style=\"text-align: right;\">\n",
       "      <th></th>\n",
       "      <th>name</th>\n",
       "      <th>date</th>\n",
       "      <th>manner_of_death</th>\n",
       "      <th>armed</th>\n",
       "      <th>age</th>\n",
       "      <th>gender</th>\n",
       "      <th>race</th>\n",
       "      <th>city</th>\n",
       "      <th>state</th>\n",
       "      <th>signs_of_mental_illness</th>\n",
       "      <th>threat_level</th>\n",
       "      <th>flee</th>\n",
       "      <th>body_camera</th>\n",
       "    </tr>\n",
       "  </thead>\n",
       "  <tbody>\n",
       "    <tr>\n",
       "      <th>2137</th>\n",
       "      <td>James Leroy Marker</td>\n",
       "      <td>2017-02-26</td>\n",
       "      <td>shot</td>\n",
       "      <td>gun</td>\n",
       "      <td>66.0</td>\n",
       "      <td>M</td>\n",
       "      <td>W</td>\n",
       "      <td>Floral City</td>\n",
       "      <td>FL</td>\n",
       "      <td>False</td>\n",
       "      <td>other</td>\n",
       "      <td>Car</td>\n",
       "      <td>False</td>\n",
       "    </tr>\n",
       "    <tr>\n",
       "      <th>2138</th>\n",
       "      <td>Joey J. Bridges</td>\n",
       "      <td>2017-02-27</td>\n",
       "      <td>shot</td>\n",
       "      <td>gun</td>\n",
       "      <td>27.0</td>\n",
       "      <td>M</td>\n",
       "      <td>W</td>\n",
       "      <td>Shelby</td>\n",
       "      <td>NC</td>\n",
       "      <td>True</td>\n",
       "      <td>attack</td>\n",
       "      <td>Foot</td>\n",
       "      <td>False</td>\n",
       "    </tr>\n",
       "    <tr>\n",
       "      <th>2139</th>\n",
       "      <td>Shawn M. Igers</td>\n",
       "      <td>2017-02-27</td>\n",
       "      <td>shot</td>\n",
       "      <td>gun</td>\n",
       "      <td>40.0</td>\n",
       "      <td>M</td>\n",
       "      <td>W</td>\n",
       "      <td>Corning</td>\n",
       "      <td>WI</td>\n",
       "      <td>False</td>\n",
       "      <td>attack</td>\n",
       "      <td>Not fleeing</td>\n",
       "      <td>False</td>\n",
       "    </tr>\n",
       "    <tr>\n",
       "      <th>2140</th>\n",
       "      <td>Earl Riley</td>\n",
       "      <td>2017-02-28</td>\n",
       "      <td>shot</td>\n",
       "      <td>gun</td>\n",
       "      <td>25.0</td>\n",
       "      <td>M</td>\n",
       "      <td>B</td>\n",
       "      <td>Houston</td>\n",
       "      <td>TX</td>\n",
       "      <td>False</td>\n",
       "      <td>attack</td>\n",
       "      <td>Not fleeing</td>\n",
       "      <td>False</td>\n",
       "    </tr>\n",
       "    <tr>\n",
       "      <th>2141</th>\n",
       "      <td>Christopher Redding</td>\n",
       "      <td>2017-02-28</td>\n",
       "      <td>shot</td>\n",
       "      <td>gun</td>\n",
       "      <td>20.0</td>\n",
       "      <td>M</td>\n",
       "      <td>B</td>\n",
       "      <td>Orlando</td>\n",
       "      <td>FL</td>\n",
       "      <td>False</td>\n",
       "      <td>attack</td>\n",
       "      <td>Foot</td>\n",
       "      <td>False</td>\n",
       "    </tr>\n",
       "  </tbody>\n",
       "</table>\n",
       "</div>"
      ],
      "text/plain": [
       "                     name        date manner_of_death armed   age gender race  \\\n",
       "2137   James Leroy Marker  2017-02-26            shot   gun  66.0      M    W   \n",
       "2138      Joey J. Bridges  2017-02-27            shot   gun  27.0      M    W   \n",
       "2139       Shawn M. Igers  2017-02-27            shot   gun  40.0      M    W   \n",
       "2140           Earl Riley  2017-02-28            shot   gun  25.0      M    B   \n",
       "2141  Christopher Redding  2017-02-28            shot   gun  20.0      M    B   \n",
       "\n",
       "             city state  signs_of_mental_illness threat_level         flee  \\\n",
       "2137  Floral City    FL                    False        other          Car   \n",
       "2138       Shelby    NC                     True       attack         Foot   \n",
       "2139      Corning    WI                    False       attack  Not fleeing   \n",
       "2140      Houston    TX                    False       attack  Not fleeing   \n",
       "2141      Orlando    FL                    False       attack         Foot   \n",
       "\n",
       "      body_camera  \n",
       "2137        False  \n",
       "2138        False  \n",
       "2139        False  \n",
       "2140        False  \n",
       "2141        False  "
      ]
     },
     "execution_count": 77,
     "metadata": {},
     "output_type": "execute_result"
    },
    {
     "data": {
      "application/javascript": [
       "\n",
       "            setTimeout(function() {\n",
       "                var nbb_cell_id = 77;\n",
       "                var nbb_unformatted_code = \"df = pd.read_csv(\\\"database.csv\\\")\\ndf.drop(labels=\\\"id\\\", axis=1, inplace=True)\\ndf.tail()\";\n",
       "                var nbb_formatted_code = \"df = pd.read_csv(\\\"database.csv\\\")\\ndf.drop(labels=\\\"id\\\", axis=1, inplace=True)\\ndf.tail()\";\n",
       "                var nbb_cells = Jupyter.notebook.get_cells();\n",
       "                for (var i = 0; i < nbb_cells.length; ++i) {\n",
       "                    if (nbb_cells[i].input_prompt_number == nbb_cell_id) {\n",
       "                        if (nbb_cells[i].get_text() == nbb_unformatted_code) {\n",
       "                             nbb_cells[i].set_text(nbb_formatted_code);\n",
       "                        }\n",
       "                        break;\n",
       "                    }\n",
       "                }\n",
       "            }, 500);\n",
       "            "
      ],
      "text/plain": [
       "<IPython.core.display.Javascript object>"
      ]
     },
     "metadata": {},
     "output_type": "display_data"
    }
   ],
   "source": [
    "df = pd.read_csv(\"database.csv\")\n",
    "df.drop(labels=\"id\", axis=1, inplace=True)\n",
    "df.tail()"
   ]
  },
  {
   "cell_type": "markdown",
   "id": "cea7349e",
   "metadata": {},
   "source": [
    "* Find the shape of the database:"
   ]
  },
  {
   "cell_type": "code",
   "execution_count": 67,
   "id": "fbb08023",
   "metadata": {},
   "outputs": [
    {
     "data": {
      "text/plain": [
       "(2142, 13)"
      ]
     },
     "execution_count": 67,
     "metadata": {},
     "output_type": "execute_result"
    },
    {
     "data": {
      "application/javascript": [
       "\n",
       "            setTimeout(function() {\n",
       "                var nbb_cell_id = 67;\n",
       "                var nbb_unformatted_code = \"df.shape\";\n",
       "                var nbb_formatted_code = \"df.shape\";\n",
       "                var nbb_cells = Jupyter.notebook.get_cells();\n",
       "                for (var i = 0; i < nbb_cells.length; ++i) {\n",
       "                    if (nbb_cells[i].input_prompt_number == nbb_cell_id) {\n",
       "                        if (nbb_cells[i].get_text() == nbb_unformatted_code) {\n",
       "                             nbb_cells[i].set_text(nbb_formatted_code);\n",
       "                        }\n",
       "                        break;\n",
       "                    }\n",
       "                }\n",
       "            }, 500);\n",
       "            "
      ],
      "text/plain": [
       "<IPython.core.display.Javascript object>"
      ]
     },
     "metadata": {},
     "output_type": "display_data"
    }
   ],
   "source": [
    "df.shape"
   ]
  },
  {
   "cell_type": "code",
   "execution_count": 68,
   "id": "c0393f69",
   "metadata": {},
   "outputs": [
    {
     "name": "stdout",
     "output_type": "stream",
     "text": [
      "Number of rows in the dataset:  2142\n",
      "Number of columns in the dataset:  13\n"
     ]
    },
    {
     "data": {
      "application/javascript": [
       "\n",
       "            setTimeout(function() {\n",
       "                var nbb_cell_id = 68;\n",
       "                var nbb_unformatted_code = \"\\nprint(\\\"Number of rows in the dataset: \\\", df.shape[0])\\nprint(\\\"Number of columns in the dataset: \\\", df.shape[1])\";\n",
       "                var nbb_formatted_code = \"print(\\\"Number of rows in the dataset: \\\", df.shape[0])\\nprint(\\\"Number of columns in the dataset: \\\", df.shape[1])\";\n",
       "                var nbb_cells = Jupyter.notebook.get_cells();\n",
       "                for (var i = 0; i < nbb_cells.length; ++i) {\n",
       "                    if (nbb_cells[i].input_prompt_number == nbb_cell_id) {\n",
       "                        if (nbb_cells[i].get_text() == nbb_unformatted_code) {\n",
       "                             nbb_cells[i].set_text(nbb_formatted_code);\n",
       "                        }\n",
       "                        break;\n",
       "                    }\n",
       "                }\n",
       "            }, 500);\n",
       "            "
      ],
      "text/plain": [
       "<IPython.core.display.Javascript object>"
      ]
     },
     "metadata": {},
     "output_type": "display_data"
    }
   ],
   "source": [
    "print(\"Number of rows in the dataset: \", df.shape[0])\n",
    "print(\"Number of columns in the dataset: \", df.shape[1])"
   ]
  },
  {
   "cell_type": "markdown",
   "id": "11c03ecf",
   "metadata": {},
   "source": [
    "* Show information about dataset: like datatypes of each column and memory requirement:"
   ]
  },
  {
   "cell_type": "code",
   "execution_count": 69,
   "id": "d601e539",
   "metadata": {},
   "outputs": [
    {
     "name": "stdout",
     "output_type": "stream",
     "text": [
      "<class 'pandas.core.frame.DataFrame'>\n",
      "RangeIndex: 2142 entries, 0 to 2141\n",
      "Data columns (total 13 columns):\n",
      " #   Column                   Non-Null Count  Dtype  \n",
      "---  ------                   --------------  -----  \n",
      " 0   name                     2123 non-null   object \n",
      " 1   date                     2142 non-null   object \n",
      " 2   manner_of_death          2142 non-null   object \n",
      " 3   armed                    2136 non-null   object \n",
      " 4   age                      2099 non-null   float64\n",
      " 5   gender                   2141 non-null   object \n",
      " 6   race                     2039 non-null   object \n",
      " 7   city                     2142 non-null   object \n",
      " 8   state                    2142 non-null   object \n",
      " 9   signs_of_mental_illness  2142 non-null   bool   \n",
      " 10  threat_level             2142 non-null   object \n",
      " 11  flee                     2106 non-null   object \n",
      " 12  body_camera              2142 non-null   bool   \n",
      "dtypes: bool(2), float64(1), object(10)\n",
      "memory usage: 188.4+ KB\n"
     ]
    },
    {
     "data": {
      "application/javascript": [
       "\n",
       "            setTimeout(function() {\n",
       "                var nbb_cell_id = 69;\n",
       "                var nbb_unformatted_code = \"df.info()\";\n",
       "                var nbb_formatted_code = \"df.info()\";\n",
       "                var nbb_cells = Jupyter.notebook.get_cells();\n",
       "                for (var i = 0; i < nbb_cells.length; ++i) {\n",
       "                    if (nbb_cells[i].input_prompt_number == nbb_cell_id) {\n",
       "                        if (nbb_cells[i].get_text() == nbb_unformatted_code) {\n",
       "                             nbb_cells[i].set_text(nbb_formatted_code);\n",
       "                        }\n",
       "                        break;\n",
       "                    }\n",
       "                }\n",
       "            }, 500);\n",
       "            "
      ],
      "text/plain": [
       "<IPython.core.display.Javascript object>"
      ]
     },
     "metadata": {},
     "output_type": "display_data"
    }
   ],
   "source": [
    "df.info()"
   ]
  },
  {
   "cell_type": "markdown",
   "id": "503e5454",
   "metadata": {},
   "source": [
    "* For better readability let's add full state name as separate colum."
   ]
  },
  {
   "cell_type": "code",
   "execution_count": 78,
   "id": "6392beb9",
   "metadata": {},
   "outputs": [
    {
     "data": {
      "text/html": [
       "<div>\n",
       "<style scoped>\n",
       "    .dataframe tbody tr th:only-of-type {\n",
       "        vertical-align: middle;\n",
       "    }\n",
       "\n",
       "    .dataframe tbody tr th {\n",
       "        vertical-align: top;\n",
       "    }\n",
       "\n",
       "    .dataframe thead th {\n",
       "        text-align: right;\n",
       "    }\n",
       "</style>\n",
       "<table border=\"1\" class=\"dataframe\">\n",
       "  <thead>\n",
       "    <tr style=\"text-align: right;\">\n",
       "      <th></th>\n",
       "      <th>name</th>\n",
       "      <th>date</th>\n",
       "      <th>manner_of_death</th>\n",
       "      <th>armed</th>\n",
       "      <th>age</th>\n",
       "      <th>gender</th>\n",
       "      <th>race</th>\n",
       "      <th>city</th>\n",
       "      <th>state</th>\n",
       "      <th>state_name</th>\n",
       "      <th>signs_of_mental_illness</th>\n",
       "      <th>threat_level</th>\n",
       "      <th>flee</th>\n",
       "      <th>body_camera</th>\n",
       "    </tr>\n",
       "  </thead>\n",
       "  <tbody>\n",
       "    <tr>\n",
       "      <th>0</th>\n",
       "      <td>Tim Elliot</td>\n",
       "      <td>2015-01-02</td>\n",
       "      <td>shot</td>\n",
       "      <td>gun</td>\n",
       "      <td>53.0</td>\n",
       "      <td>M</td>\n",
       "      <td>A</td>\n",
       "      <td>Shelton</td>\n",
       "      <td>WA</td>\n",
       "      <td>Washington</td>\n",
       "      <td>True</td>\n",
       "      <td>attack</td>\n",
       "      <td>Not fleeing</td>\n",
       "      <td>False</td>\n",
       "    </tr>\n",
       "    <tr>\n",
       "      <th>1</th>\n",
       "      <td>Lewis Lee Lembke</td>\n",
       "      <td>2015-01-02</td>\n",
       "      <td>shot</td>\n",
       "      <td>gun</td>\n",
       "      <td>47.0</td>\n",
       "      <td>M</td>\n",
       "      <td>W</td>\n",
       "      <td>Aloha</td>\n",
       "      <td>OR</td>\n",
       "      <td>Oregon</td>\n",
       "      <td>False</td>\n",
       "      <td>attack</td>\n",
       "      <td>Not fleeing</td>\n",
       "      <td>False</td>\n",
       "    </tr>\n",
       "    <tr>\n",
       "      <th>2</th>\n",
       "      <td>John Paul Quintero</td>\n",
       "      <td>2015-01-03</td>\n",
       "      <td>shot and Tasered</td>\n",
       "      <td>unarmed</td>\n",
       "      <td>23.0</td>\n",
       "      <td>M</td>\n",
       "      <td>H</td>\n",
       "      <td>Wichita</td>\n",
       "      <td>KS</td>\n",
       "      <td>Kansas</td>\n",
       "      <td>False</td>\n",
       "      <td>other</td>\n",
       "      <td>Not fleeing</td>\n",
       "      <td>False</td>\n",
       "    </tr>\n",
       "    <tr>\n",
       "      <th>3</th>\n",
       "      <td>Matthew Hoffman</td>\n",
       "      <td>2015-01-04</td>\n",
       "      <td>shot</td>\n",
       "      <td>toy weapon</td>\n",
       "      <td>32.0</td>\n",
       "      <td>M</td>\n",
       "      <td>W</td>\n",
       "      <td>San Francisco</td>\n",
       "      <td>CA</td>\n",
       "      <td>California</td>\n",
       "      <td>True</td>\n",
       "      <td>attack</td>\n",
       "      <td>Not fleeing</td>\n",
       "      <td>False</td>\n",
       "    </tr>\n",
       "    <tr>\n",
       "      <th>4</th>\n",
       "      <td>Michael Rodriguez</td>\n",
       "      <td>2015-01-04</td>\n",
       "      <td>shot</td>\n",
       "      <td>nail gun</td>\n",
       "      <td>39.0</td>\n",
       "      <td>M</td>\n",
       "      <td>H</td>\n",
       "      <td>Evans</td>\n",
       "      <td>CO</td>\n",
       "      <td>Colorado</td>\n",
       "      <td>False</td>\n",
       "      <td>attack</td>\n",
       "      <td>Not fleeing</td>\n",
       "      <td>False</td>\n",
       "    </tr>\n",
       "  </tbody>\n",
       "</table>\n",
       "</div>"
      ],
      "text/plain": [
       "                 name        date   manner_of_death       armed   age gender  \\\n",
       "0          Tim Elliot  2015-01-02              shot         gun  53.0      M   \n",
       "1    Lewis Lee Lembke  2015-01-02              shot         gun  47.0      M   \n",
       "2  John Paul Quintero  2015-01-03  shot and Tasered     unarmed  23.0      M   \n",
       "3     Matthew Hoffman  2015-01-04              shot  toy weapon  32.0      M   \n",
       "4   Michael Rodriguez  2015-01-04              shot    nail gun  39.0      M   \n",
       "\n",
       "  race           city state  state_name  signs_of_mental_illness threat_level  \\\n",
       "0    A        Shelton    WA  Washington                     True       attack   \n",
       "1    W          Aloha    OR      Oregon                    False       attack   \n",
       "2    H        Wichita    KS      Kansas                    False        other   \n",
       "3    W  San Francisco    CA  California                     True       attack   \n",
       "4    H          Evans    CO    Colorado                    False       attack   \n",
       "\n",
       "          flee  body_camera  \n",
       "0  Not fleeing        False  \n",
       "1  Not fleeing        False  \n",
       "2  Not fleeing        False  \n",
       "3  Not fleeing        False  \n",
       "4  Not fleeing        False  "
      ]
     },
     "execution_count": 78,
     "metadata": {},
     "output_type": "execute_result"
    },
    {
     "data": {
      "application/javascript": [
       "\n",
       "            setTimeout(function() {\n",
       "                var nbb_cell_id = 78;\n",
       "                var nbb_unformatted_code = \"state_name = {\\n    \\\"AL\\\": \\\"Alabama\\\",\\n    \\\"AK\\\": \\\"Alaska\\\",\\n    \\\"AZ\\\": \\\"Arizona\\\",\\n    \\\"AR\\\": \\\"Arkansas\\\",\\n    \\\"CA\\\": \\\"California\\\",\\n    \\\"CO\\\": \\\"Colorado\\\",\\n    \\\"CT\\\": \\\"Connecticut\\\",\\n    \\\"DE\\\": \\\"Delaware\\\",\\n    \\\"DC\\\": \\\"District of Columbia\\\",\\n    \\\"FL\\\": \\\"Florida\\\",\\n    \\\"GA\\\": \\\"Georgia\\\",\\n    \\\"HI\\\": \\\"Hawaii\\\",\\n    \\\"ID\\\": \\\"Idaho\\\",\\n    \\\"IL\\\": \\\"Illinois\\\",\\n    \\\"IN\\\": \\\"Indiana\\\",\\n    \\\"IA\\\": \\\"Iowa\\\",\\n    \\\"KS\\\": \\\"Kansas\\\",\\n    \\\"KY\\\": \\\"Kentucky\\\",\\n    \\\"LA\\\": \\\"Louisiana\\\",\\n    \\\"ME\\\": \\\"Maine\\\",\\n    \\\"MD\\\": \\\"Maryland\\\",\\n    \\\"MA\\\": \\\"Massachusetts\\\",\\n    \\\"MI\\\": \\\"Michigan\\\",\\n    \\\"MN\\\": \\\"Minnesota\\\",\\n    \\\"MS\\\": \\\"Mississippi\\\",\\n    \\\"MO\\\": \\\"Missouri\\\",\\n    \\\"MT\\\": \\\"Montana\\\",\\n    \\\"NE\\\": \\\"Nebraska\\\",\\n    \\\"NV\\\": \\\"Nevada\\\",\\n    \\\"NH\\\": \\\"New Hampshire\\\",\\n    \\\"NJ\\\": \\\"New Jersey\\\",\\n    \\\"NM\\\": \\\"New Mexico\\\",\\n    \\\"NY\\\": \\\"New York\\\",\\n    \\\"NC\\\": \\\"North Carolina\\\",\\n    \\\"ND\\\": \\\"North Dakota\\\",\\n    \\\"OH\\\": \\\"Ohio\\\",\\n    \\\"OK\\\": \\\"Oklahoma\\\",\\n    \\\"OR\\\": \\\"Oregon\\\",\\n    \\\"PA\\\": \\\"Pennsylvania\\\",\\n    \\\"RI\\\": \\\"Rhode Island\\\",\\n    \\\"SC\\\": \\\"South Carolina\\\",\\n    \\\"SD\\\": \\\"South Dakota\\\",\\n    \\\"TN\\\": \\\"Tennessee\\\",\\n    \\\"TX\\\": \\\"Texas\\\",\\n    \\\"UT\\\": \\\"Utah\\\",\\n    \\\"VT\\\": \\\"Vermont\\\",\\n    \\\"VA\\\": \\\"Virginia\\\",\\n    \\\"WA\\\": \\\"Washington\\\",\\n    \\\"WV\\\": \\\" West Virginia\\\",\\n    \\\"WI\\\": \\\"Wisconsin\\\",\\n    \\\"WY\\\": \\\"Wyoming\\\",\\n    \\\"AS\\\": \\\"American Samoa\\\",\\n    \\\"GU\\\": \\\"Guam\\\",\\n    \\\"MP\\\": \\\"Northern Mariana Islands\\\",\\n    \\\"PR\\\": \\\"Puerto Rico\\\",\\n    \\\"VI\\\": \\\"U.S. Virgin Islands\\\",\\n}\\ndf[\\\"state_name\\\"] = df[\\\"state\\\"].map(state_name)\\ndf = df.reindex(\\n    columns=[\\n        \\\"name\\\",\\n        \\\"date\\\",\\n        \\\"manner_of_death\\\",\\n        \\\"armed\\\",\\n        \\\"age\\\",\\n        \\\"gender\\\",\\n        \\\"race\\\",\\n        \\\"city\\\",\\n        \\\"state\\\",\\n        \\\"state_name\\\",\\n        \\\"signs_of_mental_illness\\\",\\n        \\\"threat_level\\\",\\n        \\\"flee\\\",\\n        \\\"body_camera\\\",\\n    ]\\n)\\ndf.head()\";\n",
       "                var nbb_formatted_code = \"state_name = {\\n    \\\"AL\\\": \\\"Alabama\\\",\\n    \\\"AK\\\": \\\"Alaska\\\",\\n    \\\"AZ\\\": \\\"Arizona\\\",\\n    \\\"AR\\\": \\\"Arkansas\\\",\\n    \\\"CA\\\": \\\"California\\\",\\n    \\\"CO\\\": \\\"Colorado\\\",\\n    \\\"CT\\\": \\\"Connecticut\\\",\\n    \\\"DE\\\": \\\"Delaware\\\",\\n    \\\"DC\\\": \\\"District of Columbia\\\",\\n    \\\"FL\\\": \\\"Florida\\\",\\n    \\\"GA\\\": \\\"Georgia\\\",\\n    \\\"HI\\\": \\\"Hawaii\\\",\\n    \\\"ID\\\": \\\"Idaho\\\",\\n    \\\"IL\\\": \\\"Illinois\\\",\\n    \\\"IN\\\": \\\"Indiana\\\",\\n    \\\"IA\\\": \\\"Iowa\\\",\\n    \\\"KS\\\": \\\"Kansas\\\",\\n    \\\"KY\\\": \\\"Kentucky\\\",\\n    \\\"LA\\\": \\\"Louisiana\\\",\\n    \\\"ME\\\": \\\"Maine\\\",\\n    \\\"MD\\\": \\\"Maryland\\\",\\n    \\\"MA\\\": \\\"Massachusetts\\\",\\n    \\\"MI\\\": \\\"Michigan\\\",\\n    \\\"MN\\\": \\\"Minnesota\\\",\\n    \\\"MS\\\": \\\"Mississippi\\\",\\n    \\\"MO\\\": \\\"Missouri\\\",\\n    \\\"MT\\\": \\\"Montana\\\",\\n    \\\"NE\\\": \\\"Nebraska\\\",\\n    \\\"NV\\\": \\\"Nevada\\\",\\n    \\\"NH\\\": \\\"New Hampshire\\\",\\n    \\\"NJ\\\": \\\"New Jersey\\\",\\n    \\\"NM\\\": \\\"New Mexico\\\",\\n    \\\"NY\\\": \\\"New York\\\",\\n    \\\"NC\\\": \\\"North Carolina\\\",\\n    \\\"ND\\\": \\\"North Dakota\\\",\\n    \\\"OH\\\": \\\"Ohio\\\",\\n    \\\"OK\\\": \\\"Oklahoma\\\",\\n    \\\"OR\\\": \\\"Oregon\\\",\\n    \\\"PA\\\": \\\"Pennsylvania\\\",\\n    \\\"RI\\\": \\\"Rhode Island\\\",\\n    \\\"SC\\\": \\\"South Carolina\\\",\\n    \\\"SD\\\": \\\"South Dakota\\\",\\n    \\\"TN\\\": \\\"Tennessee\\\",\\n    \\\"TX\\\": \\\"Texas\\\",\\n    \\\"UT\\\": \\\"Utah\\\",\\n    \\\"VT\\\": \\\"Vermont\\\",\\n    \\\"VA\\\": \\\"Virginia\\\",\\n    \\\"WA\\\": \\\"Washington\\\",\\n    \\\"WV\\\": \\\" West Virginia\\\",\\n    \\\"WI\\\": \\\"Wisconsin\\\",\\n    \\\"WY\\\": \\\"Wyoming\\\",\\n    \\\"AS\\\": \\\"American Samoa\\\",\\n    \\\"GU\\\": \\\"Guam\\\",\\n    \\\"MP\\\": \\\"Northern Mariana Islands\\\",\\n    \\\"PR\\\": \\\"Puerto Rico\\\",\\n    \\\"VI\\\": \\\"U.S. Virgin Islands\\\",\\n}\\ndf[\\\"state_name\\\"] = df[\\\"state\\\"].map(state_name)\\ndf = df.reindex(\\n    columns=[\\n        \\\"name\\\",\\n        \\\"date\\\",\\n        \\\"manner_of_death\\\",\\n        \\\"armed\\\",\\n        \\\"age\\\",\\n        \\\"gender\\\",\\n        \\\"race\\\",\\n        \\\"city\\\",\\n        \\\"state\\\",\\n        \\\"state_name\\\",\\n        \\\"signs_of_mental_illness\\\",\\n        \\\"threat_level\\\",\\n        \\\"flee\\\",\\n        \\\"body_camera\\\",\\n    ]\\n)\\ndf.head()\";\n",
       "                var nbb_cells = Jupyter.notebook.get_cells();\n",
       "                for (var i = 0; i < nbb_cells.length; ++i) {\n",
       "                    if (nbb_cells[i].input_prompt_number == nbb_cell_id) {\n",
       "                        if (nbb_cells[i].get_text() == nbb_unformatted_code) {\n",
       "                             nbb_cells[i].set_text(nbb_formatted_code);\n",
       "                        }\n",
       "                        break;\n",
       "                    }\n",
       "                }\n",
       "            }, 500);\n",
       "            "
      ],
      "text/plain": [
       "<IPython.core.display.Javascript object>"
      ]
     },
     "metadata": {},
     "output_type": "display_data"
    }
   ],
   "source": [
    "state_name = {\n",
    "    \"AL\": \"Alabama\",\n",
    "    \"AK\": \"Alaska\",\n",
    "    \"AZ\": \"Arizona\",\n",
    "    \"AR\": \"Arkansas\",\n",
    "    \"CA\": \"California\",\n",
    "    \"CO\": \"Colorado\",\n",
    "    \"CT\": \"Connecticut\",\n",
    "    \"DE\": \"Delaware\",\n",
    "    \"DC\": \"District of Columbia\",\n",
    "    \"FL\": \"Florida\",\n",
    "    \"GA\": \"Georgia\",\n",
    "    \"HI\": \"Hawaii\",\n",
    "    \"ID\": \"Idaho\",\n",
    "    \"IL\": \"Illinois\",\n",
    "    \"IN\": \"Indiana\",\n",
    "    \"IA\": \"Iowa\",\n",
    "    \"KS\": \"Kansas\",\n",
    "    \"KY\": \"Kentucky\",\n",
    "    \"LA\": \"Louisiana\",\n",
    "    \"ME\": \"Maine\",\n",
    "    \"MD\": \"Maryland\",\n",
    "    \"MA\": \"Massachusetts\",\n",
    "    \"MI\": \"Michigan\",\n",
    "    \"MN\": \"Minnesota\",\n",
    "    \"MS\": \"Mississippi\",\n",
    "    \"MO\": \"Missouri\",\n",
    "    \"MT\": \"Montana\",\n",
    "    \"NE\": \"Nebraska\",\n",
    "    \"NV\": \"Nevada\",\n",
    "    \"NH\": \"New Hampshire\",\n",
    "    \"NJ\": \"New Jersey\",\n",
    "    \"NM\": \"New Mexico\",\n",
    "    \"NY\": \"New York\",\n",
    "    \"NC\": \"North Carolina\",\n",
    "    \"ND\": \"North Dakota\",\n",
    "    \"OH\": \"Ohio\",\n",
    "    \"OK\": \"Oklahoma\",\n",
    "    \"OR\": \"Oregon\",\n",
    "    \"PA\": \"Pennsylvania\",\n",
    "    \"RI\": \"Rhode Island\",\n",
    "    \"SC\": \"South Carolina\",\n",
    "    \"SD\": \"South Dakota\",\n",
    "    \"TN\": \"Tennessee\",\n",
    "    \"TX\": \"Texas\",\n",
    "    \"UT\": \"Utah\",\n",
    "    \"VT\": \"Vermont\",\n",
    "    \"VA\": \"Virginia\",\n",
    "    \"WA\": \"Washington\",\n",
    "    \"WV\": \" West Virginia\",\n",
    "    \"WI\": \"Wisconsin\",\n",
    "    \"WY\": \"Wyoming\",\n",
    "    \"AS\": \"American Samoa\",\n",
    "    \"GU\": \"Guam\",\n",
    "    \"MP\": \"Northern Mariana Islands\",\n",
    "    \"PR\": \"Puerto Rico\",\n",
    "    \"VI\": \"U.S. Virgin Islands\",\n",
    "}\n",
    "df[\"state_name\"] = df[\"state\"].map(state_name)\n",
    "df = df.reindex(\n",
    "    columns=[\n",
    "        \"name\",\n",
    "        \"date\",\n",
    "        \"manner_of_death\",\n",
    "        \"armed\",\n",
    "        \"age\",\n",
    "        \"gender\",\n",
    "        \"race\",\n",
    "        \"city\",\n",
    "        \"state\",\n",
    "        \"state_name\",\n",
    "        \"signs_of_mental_illness\",\n",
    "        \"threat_level\",\n",
    "        \"flee\",\n",
    "        \"body_camera\",\n",
    "    ]\n",
    ")\n",
    "df.head()"
   ]
  },
  {
   "cell_type": "markdown",
   "id": "cb466c2c",
   "metadata": {},
   "source": [
    "* Check what is the percetage of missing values:"
   ]
  },
  {
   "cell_type": "code",
   "execution_count": 79,
   "id": "78936c62",
   "metadata": {},
   "outputs": [
    {
     "data": {
      "text/plain": [
       "name                       0.89\n",
       "date                       0.00\n",
       "manner_of_death            0.00\n",
       "armed                      0.28\n",
       "age                        2.01\n",
       "gender                     0.05\n",
       "race                       4.81\n",
       "city                       0.00\n",
       "state                      0.00\n",
       "state_name                 0.00\n",
       "signs_of_mental_illness    0.00\n",
       "threat_level               0.00\n",
       "flee                       1.68\n",
       "body_camera                0.00\n",
       "dtype: float64"
      ]
     },
     "execution_count": 79,
     "metadata": {},
     "output_type": "execute_result"
    },
    {
     "data": {
      "application/javascript": [
       "\n",
       "            setTimeout(function() {\n",
       "                var nbb_cell_id = 79;\n",
       "                var nbb_unformatted_code = \"perc_missing = round(df.isnull().sum() * 100 / len(df), 2)\\nperc_missing\";\n",
       "                var nbb_formatted_code = \"perc_missing = round(df.isnull().sum() * 100 / len(df), 2)\\nperc_missing\";\n",
       "                var nbb_cells = Jupyter.notebook.get_cells();\n",
       "                for (var i = 0; i < nbb_cells.length; ++i) {\n",
       "                    if (nbb_cells[i].input_prompt_number == nbb_cell_id) {\n",
       "                        if (nbb_cells[i].get_text() == nbb_unformatted_code) {\n",
       "                             nbb_cells[i].set_text(nbb_formatted_code);\n",
       "                        }\n",
       "                        break;\n",
       "                    }\n",
       "                }\n",
       "            }, 500);\n",
       "            "
      ],
      "text/plain": [
       "<IPython.core.display.Javascript object>"
      ]
     },
     "metadata": {},
     "output_type": "display_data"
    }
   ],
   "source": [
    "perc_missing = round(df.isnull().sum() * 100 / len(df), 2)\n",
    "perc_missing"
   ]
  },
  {
   "cell_type": "markdown",
   "id": "d6d67662",
   "metadata": {},
   "source": [
    "Conclusions:<br> \n",
    "* most of missing data is in 'race' column: 4.81 % data, <br>\n",
    "* 2.01 % data is missing in 'age' column,<br>\n",
    "* 1.68 % is missing in 'flee' column,<br>\n",
    "* 0.89 % data missing the name,<br>\n",
    "* 0.28 % is uknown if the victim was armed or not,<br>\n",
    "* 0.05 % victim gender is  uknown.<br>\n",
    "Generally,  if less than 5% of values are missing then it is acceptable to ignore them. In my further analysis I will try to fill the missing data with additional information."
   ]
  },
  {
   "cell_type": "code",
   "execution_count": 80,
   "id": "b8fe1051",
   "metadata": {
    "scrolled": true
   },
   "outputs": [
    {
     "name": "stdout",
     "output_type": "stream",
     "text": [
      "Earliest date: 2015-01-02\n",
      "Latest date: 2017-02-28\n"
     ]
    },
    {
     "data": {
      "application/javascript": [
       "\n",
       "            setTimeout(function() {\n",
       "                var nbb_cell_id = 80;\n",
       "                var nbb_unformatted_code = \"print(\\\"Earliest date:\\\", df[\\\"date\\\"].min())\\nprint(\\\"Latest date:\\\", df[\\\"date\\\"].max())\";\n",
       "                var nbb_formatted_code = \"print(\\\"Earliest date:\\\", df[\\\"date\\\"].min())\\nprint(\\\"Latest date:\\\", df[\\\"date\\\"].max())\";\n",
       "                var nbb_cells = Jupyter.notebook.get_cells();\n",
       "                for (var i = 0; i < nbb_cells.length; ++i) {\n",
       "                    if (nbb_cells[i].input_prompt_number == nbb_cell_id) {\n",
       "                        if (nbb_cells[i].get_text() == nbb_unformatted_code) {\n",
       "                             nbb_cells[i].set_text(nbb_formatted_code);\n",
       "                        }\n",
       "                        break;\n",
       "                    }\n",
       "                }\n",
       "            }, 500);\n",
       "            "
      ],
      "text/plain": [
       "<IPython.core.display.Javascript object>"
      ]
     },
     "metadata": {},
     "output_type": "display_data"
    }
   ],
   "source": [
    "print(\"Earliest date:\", df[\"date\"].min())\n",
    "print(\"Latest date:\", df[\"date\"].max())"
   ]
  },
  {
   "cell_type": "markdown",
   "id": "befcac68",
   "metadata": {},
   "source": [
    "* For more accurate analysis let's change 'date' column to date format and extract only year and check the victim number change:"
   ]
  },
  {
   "cell_type": "code",
   "execution_count": 81,
   "id": "c9398606",
   "metadata": {},
   "outputs": [
    {
     "data": {
      "image/png": "[encoded data removed]",
      "text/plain": [
       "<Figure size 300x300 with 1 Axes>"
      ]
     },
     "metadata": {},
     "output_type": "display_data"
    },
    {
     "data": {
      "application/javascript": [
       "\n",
       "            setTimeout(function() {\n",
       "                var nbb_cell_id = 81;\n",
       "                var nbb_unformatted_code = \"df[\\\"date\\\"] = pd.to_datetime(df[\\\"date\\\"], format=\\\"%Y-%m-%d\\\")\\ndf[\\\"date\\\"] = pd.DatetimeIndex(df[\\\"date\\\"]).year\\nplt.figure(figsize=(3, 3))\\nvictim_counts = df[\\\"date\\\"].value_counts()\\nax = victim_counts.plot(kind=\\\"bar\\\")\\nplt.title(\\\"Victim number changes in 2015-2017\\\")\\nplt.xlabel(\\\"Year\\\")\\nplt.yticks(ticks=[], label=\\\"\\\")\\nfor i, v in enumerate(victim_counts):\\n    ax.annotate(str(v), xy=(i, v / 3.0), ha=\\\"center\\\", va=\\\"bottom\\\")\\nfor spine in plt.gca().spines.values():\\n    spine.set_visible(False)\";\n",
       "                var nbb_formatted_code = \"df[\\\"date\\\"] = pd.to_datetime(df[\\\"date\\\"], format=\\\"%Y-%m-%d\\\")\\ndf[\\\"date\\\"] = pd.DatetimeIndex(df[\\\"date\\\"]).year\\nplt.figure(figsize=(3, 3))\\nvictim_counts = df[\\\"date\\\"].value_counts()\\nax = victim_counts.plot(kind=\\\"bar\\\")\\nplt.title(\\\"Victim number changes in 2015-2017\\\")\\nplt.xlabel(\\\"Year\\\")\\nplt.yticks(ticks=[], label=\\\"\\\")\\nfor i, v in enumerate(victim_counts):\\n    ax.annotate(str(v), xy=(i, v / 3.0), ha=\\\"center\\\", va=\\\"bottom\\\")\\nfor spine in plt.gca().spines.values():\\n    spine.set_visible(False)\";\n",
       "                var nbb_cells = Jupyter.notebook.get_cells();\n",
       "                for (var i = 0; i < nbb_cells.length; ++i) {\n",
       "                    if (nbb_cells[i].input_prompt_number == nbb_cell_id) {\n",
       "                        if (nbb_cells[i].get_text() == nbb_unformatted_code) {\n",
       "                             nbb_cells[i].set_text(nbb_formatted_code);\n",
       "                        }\n",
       "                        break;\n",
       "                    }\n",
       "                }\n",
       "            }, 500);\n",
       "            "
      ],
      "text/plain": [
       "<IPython.core.display.Javascript object>"
      ]
     },
     "metadata": {},
     "output_type": "display_data"
    }
   ],
   "source": [
    "df[\"date\"] = pd.to_datetime(df[\"date\"], format=\"%Y-%m-%d\")\n",
    "df[\"date\"] = pd.DatetimeIndex(df[\"date\"]).year\n",
    "plt.figure(figsize=(3, 3))\n",
    "victim_counts = df[\"date\"].value_counts()\n",
    "ax = victim_counts.plot(kind=\"bar\")\n",
    "plt.title(\"Victim number changes in 2015-2017\")\n",
    "plt.xlabel(\"Year\")\n",
    "plt.yticks(ticks=[], label=\"\")\n",
    "for i, v in enumerate(victim_counts):\n",
    "    ax.annotate(str(v), xy=(i, v / 3.0), ha=\"center\", va=\"bottom\")\n",
    "for spine in plt.gca().spines.values():\n",
    "    spine.set_visible(False)"
   ]
  },
  {
   "cell_type": "markdown",
   "id": "0f038d1e",
   "metadata": {},
   "source": [
    "Conclusion:<br>\n",
    "* The significant change in 2017 is due to the lack of full information. The last entrance was made in February 2017."
   ]
  },
  {
   "cell_type": "markdown",
   "id": "6f5b22c9",
   "metadata": {},
   "source": [
    "* Get overall statistics of the dataset"
   ]
  },
  {
   "cell_type": "code",
   "execution_count": 82,
   "id": "7bc14804",
   "metadata": {},
   "outputs": [
    {
     "data": {
      "text/html": [
       "<div>\n",
       "<style scoped>\n",
       "    .dataframe tbody tr th:only-of-type {\n",
       "        vertical-align: middle;\n",
       "    }\n",
       "\n",
       "    .dataframe tbody tr th {\n",
       "        vertical-align: top;\n",
       "    }\n",
       "\n",
       "    .dataframe thead th {\n",
       "        text-align: right;\n",
       "    }\n",
       "</style>\n",
       "<table border=\"1\" class=\"dataframe\">\n",
       "  <thead>\n",
       "    <tr style=\"text-align: right;\">\n",
       "      <th></th>\n",
       "      <th>name</th>\n",
       "      <th>date</th>\n",
       "      <th>manner_of_death</th>\n",
       "      <th>armed</th>\n",
       "      <th>age</th>\n",
       "      <th>gender</th>\n",
       "      <th>race</th>\n",
       "      <th>city</th>\n",
       "      <th>state</th>\n",
       "      <th>state_name</th>\n",
       "      <th>signs_of_mental_illness</th>\n",
       "      <th>threat_level</th>\n",
       "      <th>flee</th>\n",
       "      <th>body_camera</th>\n",
       "    </tr>\n",
       "  </thead>\n",
       "  <tbody>\n",
       "    <tr>\n",
       "      <th>count</th>\n",
       "      <td>2123</td>\n",
       "      <td>2142.000000</td>\n",
       "      <td>2142</td>\n",
       "      <td>2136</td>\n",
       "      <td>2099.000000</td>\n",
       "      <td>2141</td>\n",
       "      <td>2039</td>\n",
       "      <td>2142</td>\n",
       "      <td>2142</td>\n",
       "      <td>2142</td>\n",
       "      <td>2142</td>\n",
       "      <td>2142</td>\n",
       "      <td>2106</td>\n",
       "      <td>2142</td>\n",
       "    </tr>\n",
       "    <tr>\n",
       "      <th>unique</th>\n",
       "      <td>2118</td>\n",
       "      <td>NaN</td>\n",
       "      <td>2</td>\n",
       "      <td>64</td>\n",
       "      <td>NaN</td>\n",
       "      <td>2</td>\n",
       "      <td>6</td>\n",
       "      <td>1247</td>\n",
       "      <td>51</td>\n",
       "      <td>51</td>\n",
       "      <td>2</td>\n",
       "      <td>3</td>\n",
       "      <td>4</td>\n",
       "      <td>2</td>\n",
       "    </tr>\n",
       "    <tr>\n",
       "      <th>top</th>\n",
       "      <td>Eric Harris</td>\n",
       "      <td>NaN</td>\n",
       "      <td>shot</td>\n",
       "      <td>gun</td>\n",
       "      <td>NaN</td>\n",
       "      <td>M</td>\n",
       "      <td>W</td>\n",
       "      <td>Los Angeles</td>\n",
       "      <td>CA</td>\n",
       "      <td>California</td>\n",
       "      <td>False</td>\n",
       "      <td>attack</td>\n",
       "      <td>Not fleeing</td>\n",
       "      <td>False</td>\n",
       "    </tr>\n",
       "    <tr>\n",
       "      <th>freq</th>\n",
       "      <td>2</td>\n",
       "      <td>NaN</td>\n",
       "      <td>1992</td>\n",
       "      <td>1173</td>\n",
       "      <td>NaN</td>\n",
       "      <td>2052</td>\n",
       "      <td>1041</td>\n",
       "      <td>31</td>\n",
       "      <td>355</td>\n",
       "      <td>355</td>\n",
       "      <td>1612</td>\n",
       "      <td>1381</td>\n",
       "      <td>1453</td>\n",
       "      <td>1913</td>\n",
       "    </tr>\n",
       "    <tr>\n",
       "      <th>mean</th>\n",
       "      <td>NaN</td>\n",
       "      <td>2015.625117</td>\n",
       "      <td>NaN</td>\n",
       "      <td>NaN</td>\n",
       "      <td>36.484516</td>\n",
       "      <td>NaN</td>\n",
       "      <td>NaN</td>\n",
       "      <td>NaN</td>\n",
       "      <td>NaN</td>\n",
       "      <td>NaN</td>\n",
       "      <td>NaN</td>\n",
       "      <td>NaN</td>\n",
       "      <td>NaN</td>\n",
       "      <td>NaN</td>\n",
       "    </tr>\n",
       "    <tr>\n",
       "      <th>std</th>\n",
       "      <td>NaN</td>\n",
       "      <td>0.640370</td>\n",
       "      <td>NaN</td>\n",
       "      <td>NaN</td>\n",
       "      <td>12.874000</td>\n",
       "      <td>NaN</td>\n",
       "      <td>NaN</td>\n",
       "      <td>NaN</td>\n",
       "      <td>NaN</td>\n",
       "      <td>NaN</td>\n",
       "      <td>NaN</td>\n",
       "      <td>NaN</td>\n",
       "      <td>NaN</td>\n",
       "      <td>NaN</td>\n",
       "    </tr>\n",
       "    <tr>\n",
       "      <th>min</th>\n",
       "      <td>NaN</td>\n",
       "      <td>2015.000000</td>\n",
       "      <td>NaN</td>\n",
       "      <td>NaN</td>\n",
       "      <td>6.000000</td>\n",
       "      <td>NaN</td>\n",
       "      <td>NaN</td>\n",
       "      <td>NaN</td>\n",
       "      <td>NaN</td>\n",
       "      <td>NaN</td>\n",
       "      <td>NaN</td>\n",
       "      <td>NaN</td>\n",
       "      <td>NaN</td>\n",
       "      <td>NaN</td>\n",
       "    </tr>\n",
       "    <tr>\n",
       "      <th>25%</th>\n",
       "      <td>NaN</td>\n",
       "      <td>2015.000000</td>\n",
       "      <td>NaN</td>\n",
       "      <td>NaN</td>\n",
       "      <td>26.000000</td>\n",
       "      <td>NaN</td>\n",
       "      <td>NaN</td>\n",
       "      <td>NaN</td>\n",
       "      <td>NaN</td>\n",
       "      <td>NaN</td>\n",
       "      <td>NaN</td>\n",
       "      <td>NaN</td>\n",
       "      <td>NaN</td>\n",
       "      <td>NaN</td>\n",
       "    </tr>\n",
       "    <tr>\n",
       "      <th>50%</th>\n",
       "      <td>NaN</td>\n",
       "      <td>2016.000000</td>\n",
       "      <td>NaN</td>\n",
       "      <td>NaN</td>\n",
       "      <td>34.000000</td>\n",
       "      <td>NaN</td>\n",
       "      <td>NaN</td>\n",
       "      <td>NaN</td>\n",
       "      <td>NaN</td>\n",
       "      <td>NaN</td>\n",
       "      <td>NaN</td>\n",
       "      <td>NaN</td>\n",
       "      <td>NaN</td>\n",
       "      <td>NaN</td>\n",
       "    </tr>\n",
       "    <tr>\n",
       "      <th>75%</th>\n",
       "      <td>NaN</td>\n",
       "      <td>2016.000000</td>\n",
       "      <td>NaN</td>\n",
       "      <td>NaN</td>\n",
       "      <td>45.000000</td>\n",
       "      <td>NaN</td>\n",
       "      <td>NaN</td>\n",
       "      <td>NaN</td>\n",
       "      <td>NaN</td>\n",
       "      <td>NaN</td>\n",
       "      <td>NaN</td>\n",
       "      <td>NaN</td>\n",
       "      <td>NaN</td>\n",
       "      <td>NaN</td>\n",
       "    </tr>\n",
       "    <tr>\n",
       "      <th>max</th>\n",
       "      <td>NaN</td>\n",
       "      <td>2017.000000</td>\n",
       "      <td>NaN</td>\n",
       "      <td>NaN</td>\n",
       "      <td>86.000000</td>\n",
       "      <td>NaN</td>\n",
       "      <td>NaN</td>\n",
       "      <td>NaN</td>\n",
       "      <td>NaN</td>\n",
       "      <td>NaN</td>\n",
       "      <td>NaN</td>\n",
       "      <td>NaN</td>\n",
       "      <td>NaN</td>\n",
       "      <td>NaN</td>\n",
       "    </tr>\n",
       "  </tbody>\n",
       "</table>\n",
       "</div>"
      ],
      "text/plain": [
       "               name         date manner_of_death armed          age gender  \\\n",
       "count          2123  2142.000000            2142  2136  2099.000000   2141   \n",
       "unique         2118          NaN               2    64          NaN      2   \n",
       "top     Eric Harris          NaN            shot   gun          NaN      M   \n",
       "freq              2          NaN            1992  1173          NaN   2052   \n",
       "mean            NaN  2015.625117             NaN   NaN    36.484516    NaN   \n",
       "std             NaN     0.640370             NaN   NaN    12.874000    NaN   \n",
       "min             NaN  2015.000000             NaN   NaN     6.000000    NaN   \n",
       "25%             NaN  2015.000000             NaN   NaN    26.000000    NaN   \n",
       "50%             NaN  2016.000000             NaN   NaN    34.000000    NaN   \n",
       "75%             NaN  2016.000000             NaN   NaN    45.000000    NaN   \n",
       "max             NaN  2017.000000             NaN   NaN    86.000000    NaN   \n",
       "\n",
       "        race         city state  state_name signs_of_mental_illness  \\\n",
       "count   2039         2142  2142        2142                    2142   \n",
       "unique     6         1247    51          51                       2   \n",
       "top        W  Los Angeles    CA  California                   False   \n",
       "freq    1041           31   355         355                    1612   \n",
       "mean     NaN          NaN   NaN         NaN                     NaN   \n",
       "std      NaN          NaN   NaN         NaN                     NaN   \n",
       "min      NaN          NaN   NaN         NaN                     NaN   \n",
       "25%      NaN          NaN   NaN         NaN                     NaN   \n",
       "50%      NaN          NaN   NaN         NaN                     NaN   \n",
       "75%      NaN          NaN   NaN         NaN                     NaN   \n",
       "max      NaN          NaN   NaN         NaN                     NaN   \n",
       "\n",
       "       threat_level         flee body_camera  \n",
       "count          2142         2106        2142  \n",
       "unique            3            4           2  \n",
       "top          attack  Not fleeing       False  \n",
       "freq           1381         1453        1913  \n",
       "mean            NaN          NaN         NaN  \n",
       "std             NaN          NaN         NaN  \n",
       "min             NaN          NaN         NaN  \n",
       "25%             NaN          NaN         NaN  \n",
       "50%             NaN          NaN         NaN  \n",
       "75%             NaN          NaN         NaN  \n",
       "max             NaN          NaN         NaN  "
      ]
     },
     "execution_count": 82,
     "metadata": {},
     "output_type": "execute_result"
    },
    {
     "data": {
      "application/javascript": [
       "\n",
       "            setTimeout(function() {\n",
       "                var nbb_cell_id = 82;\n",
       "                var nbb_unformatted_code = \"df.describe(include='all', datetime_is_numeric=True)\";\n",
       "                var nbb_formatted_code = \"df.describe(include=\\\"all\\\", datetime_is_numeric=True)\";\n",
       "                var nbb_cells = Jupyter.notebook.get_cells();\n",
       "                for (var i = 0; i < nbb_cells.length; ++i) {\n",
       "                    if (nbb_cells[i].input_prompt_number == nbb_cell_id) {\n",
       "                        if (nbb_cells[i].get_text() == nbb_unformatted_code) {\n",
       "                             nbb_cells[i].set_text(nbb_formatted_code);\n",
       "                        }\n",
       "                        break;\n",
       "                    }\n",
       "                }\n",
       "            }, 500);\n",
       "            "
      ],
      "text/plain": [
       "<IPython.core.display.Javascript object>"
      ]
     },
     "metadata": {},
     "output_type": "display_data"
    }
   ],
   "source": [
    "df.describe(include=\"all\", datetime_is_numeric=True)"
   ]
  },
  {
   "cell_type": "markdown",
   "id": "a7d1da61",
   "metadata": {},
   "source": [
    "* Check if any names are duplicated in the dataset and if so drop them:<br>\n",
    "(assuming that duplications are best revealed by 'name','date','state' columns)<br>\n",
    "* **Note:** to check all entrances: df[df[['name','date','state']].duplicated(keep=False)]"
   ]
  },
  {
   "cell_type": "code",
   "execution_count": 83,
   "id": "04495047",
   "metadata": {},
   "outputs": [
    {
     "data": {
      "application/javascript": [
       "\n",
       "            setTimeout(function() {\n",
       "                var nbb_cell_id = 83;\n",
       "                var nbb_unformatted_code = \"df = df.drop_duplicates(subset=['name', 'state', 'city'], keep=\\\"first\\\")\";\n",
       "                var nbb_formatted_code = \"df = df.drop_duplicates(subset=[\\\"name\\\", \\\"state\\\", \\\"city\\\"], keep=\\\"first\\\")\";\n",
       "                var nbb_cells = Jupyter.notebook.get_cells();\n",
       "                for (var i = 0; i < nbb_cells.length; ++i) {\n",
       "                    if (nbb_cells[i].input_prompt_number == nbb_cell_id) {\n",
       "                        if (nbb_cells[i].get_text() == nbb_unformatted_code) {\n",
       "                             nbb_cells[i].set_text(nbb_formatted_code);\n",
       "                        }\n",
       "                        break;\n",
       "                    }\n",
       "                }\n",
       "            }, 500);\n",
       "            "
      ],
      "text/plain": [
       "<IPython.core.display.Javascript object>"
      ]
     },
     "metadata": {},
     "output_type": "display_data"
    }
   ],
   "source": [
    "df = df.drop_duplicates(subset=[\"name\", \"state\", \"city\"], keep=\"first\")"
   ]
  },
  {
   "cell_type": "markdown",
   "id": "7f4a014e",
   "metadata": {},
   "source": [
    "### How Incidents Are Differentiated by Gender?"
   ]
  },
  {
   "cell_type": "markdown",
   "id": "dce6c1eb",
   "metadata": {},
   "source": [
    "* As the graph below shows the distribution of victims by gender. \n",
    "The majority of victims are male."
   ]
  },
  {
   "cell_type": "code",
   "execution_count": 109,
   "id": "6b7caba4",
   "metadata": {},
   "outputs": [
    {
     "data": {
      "image/png": "[encoded data removed]",
      "text/plain": [
       "<Figure size 640x480 with 1 Axes>"
      ]
     },
     "metadata": {},
     "output_type": "display_data"
    },
    {
     "data": {
      "application/javascript": [
       "\n",
       "            setTimeout(function() {\n",
       "                var nbb_cell_id = 109;\n",
       "                var nbb_unformatted_code = \"race_order = df[\\\"race\\\"].value_counts().sort_values(ascending=False).index.tolist()\\ngender_race = sns.countplot(\\n    x=\\\"gender\\\",\\n    data=df,\\n    hue=\\\"race\\\",\\n    palette=\\\"deep\\\",\\n    hue_order=race_order,\\n)\\nfor i in gender_race.patches:\\n    gender_race.annotate(\\n        f\\\"{i.get_height():.0f}\\\",\\n        (i.get_x() + i.get_width() / 2.0, i.get_height()),\\n        ha=\\\"center\\\",\\n        va=\\\"center\\\",\\n        xytext=(0, 10),\\n        textcoords=\\\"offset pixels\\\",\\n    )\\n\\ngender_race.set(yticks=[], ylabel=\\\"\\\")\\nplt.legend(\\n    labels=[\\\"White\\\", \\\"Black\\\", \\\"Hispanic\\\", \\\"Asian\\\", \\\"Other Race\\\", \\\"Native American\\\"]\\n)\\nplt.xlabel(\\\"Victims Gender\\\")\\nplt.title(\\n    \\\"Number of victims by gender and race\\\\n Total Number: {} males and {} females\\\".format(\\n        df[\\\"gender\\\"].value_counts()[0], df[\\\"gender\\\"].value_counts()[1]\\n    ),\\n    alpha=0.8,\\n)\\nfor spine in plt.gca().spines.values():\\n    spine.set_visible(False)\";\n",
       "                var nbb_formatted_code = \"race_order = df[\\\"race\\\"].value_counts().sort_values(ascending=False).index.tolist()\\ngender_race = sns.countplot(\\n    x=\\\"gender\\\",\\n    data=df,\\n    hue=\\\"race\\\",\\n    palette=\\\"deep\\\",\\n    hue_order=race_order,\\n)\\nfor i in gender_race.patches:\\n    gender_race.annotate(\\n        f\\\"{i.get_height():.0f}\\\",\\n        (i.get_x() + i.get_width() / 2.0, i.get_height()),\\n        ha=\\\"center\\\",\\n        va=\\\"center\\\",\\n        xytext=(0, 10),\\n        textcoords=\\\"offset pixels\\\",\\n    )\\n\\ngender_race.set(yticks=[], ylabel=\\\"\\\")\\nplt.legend(\\n    labels=[\\\"White\\\", \\\"Black\\\", \\\"Hispanic\\\", \\\"Asian\\\", \\\"Other Race\\\", \\\"Native American\\\"]\\n)\\nplt.xlabel(\\\"Victims Gender\\\")\\nplt.title(\\n    \\\"Number of victims by gender and race\\\\n Total Number: {} males and {} females\\\".format(\\n        df[\\\"gender\\\"].value_counts()[0], df[\\\"gender\\\"].value_counts()[1]\\n    ),\\n    alpha=0.8,\\n)\\nfor spine in plt.gca().spines.values():\\n    spine.set_visible(False)\";\n",
       "                var nbb_cells = Jupyter.notebook.get_cells();\n",
       "                for (var i = 0; i < nbb_cells.length; ++i) {\n",
       "                    if (nbb_cells[i].input_prompt_number == nbb_cell_id) {\n",
       "                        if (nbb_cells[i].get_text() == nbb_unformatted_code) {\n",
       "                             nbb_cells[i].set_text(nbb_formatted_code);\n",
       "                        }\n",
       "                        break;\n",
       "                    }\n",
       "                }\n",
       "            }, 500);\n",
       "            "
      ],
      "text/plain": [
       "<IPython.core.display.Javascript object>"
      ]
     },
     "metadata": {},
     "output_type": "display_data"
    }
   ],
   "source": [
    "race_order = df[\"race\"].value_counts().sort_values(ascending=False).index.tolist()\n",
    "gender_race = sns.countplot(\n",
    "    x=\"gender\",\n",
    "    data=df,\n",
    "    hue=\"race\",\n",
    "    palette=\"deep\",\n",
    "    hue_order=race_order,\n",
    ")\n",
    "for i in gender_race.patches:\n",
    "    gender_race.annotate(\n",
    "        f\"{i.get_height():.0f}\",\n",
    "        (i.get_x() + i.get_width() / 2.0, i.get_height()),\n",
    "        ha=\"center\",\n",
    "        va=\"center\",\n",
    "        xytext=(0, 10),\n",
    "        textcoords=\"offset pixels\",\n",
    "    )\n",
    "\n",
    "gender_race.set(yticks=[], ylabel=\"\")\n",
    "plt.legend(\n",
    "    labels=[\"White\", \"Black\", \"Hispanic\", \"Asian\", \"Other Race\", \"Native American\"]\n",
    ")\n",
    "plt.xlabel(\"Victims Gender\")\n",
    "plt.title(\n",
    "    \"Number of victims by gender and race\\n Total Number: {} males and {} females\".format(\n",
    "        df[\"gender\"].value_counts()[0], df[\"gender\"].value_counts()[1]\n",
    "    ),\n",
    "    alpha=0.8,\n",
    ")\n",
    "for spine in plt.gca().spines.values():\n",
    "    spine.set_visible(False)"
   ]
  },
  {
   "cell_type": "markdown",
   "id": "cc07e306",
   "metadata": {},
   "source": [
    "### How Incidents Differenciate by age?"
   ]
  },
  {
   "cell_type": "markdown",
   "id": "0f878da9",
   "metadata": {},
   "source": [
    "* Most victims are aged between 20 and 40, and the plot below confirms this."
   ]
  },
  {
   "cell_type": "code",
   "execution_count": 114,
   "id": "fa0b96a7",
   "metadata": {
    "scrolled": true
   },
   "outputs": [
    {
     "name": "stdout",
     "output_type": "stream",
     "text": [
      "The youngest victim: 6.0 years\n",
      "The oldest victim: 86.0 years\n"
     ]
    },
    {
     "data": {
      "application/javascript": [
       "\n",
       "            setTimeout(function() {\n",
       "                var nbb_cell_id = 114;\n",
       "                var nbb_unformatted_code = \"print(\\\"The youngest victim: {} years\\\".format(df[\\\"age\\\"].min()))\\nprint(\\\"The oldest victim: {} years\\\".format(df[\\\"age\\\"].max()))\";\n",
       "                var nbb_formatted_code = \"print(\\\"The youngest victim: {} years\\\".format(df[\\\"age\\\"].min()))\\nprint(\\\"The oldest victim: {} years\\\".format(df[\\\"age\\\"].max()))\";\n",
       "                var nbb_cells = Jupyter.notebook.get_cells();\n",
       "                for (var i = 0; i < nbb_cells.length; ++i) {\n",
       "                    if (nbb_cells[i].input_prompt_number == nbb_cell_id) {\n",
       "                        if (nbb_cells[i].get_text() == nbb_unformatted_code) {\n",
       "                             nbb_cells[i].set_text(nbb_formatted_code);\n",
       "                        }\n",
       "                        break;\n",
       "                    }\n",
       "                }\n",
       "            }, 500);\n",
       "            "
      ],
      "text/plain": [
       "<IPython.core.display.Javascript object>"
      ]
     },
     "metadata": {},
     "output_type": "display_data"
    }
   ],
   "source": [
    "print(\"The youngest victim: {} years\".format(df[\"age\"].min()))\n",
    "print(\"The oldest victim: {} years\".format(df[\"age\"].max()))"
   ]
  },
  {
   "cell_type": "code",
   "execution_count": 251,
   "id": "a16f8808",
   "metadata": {
    "scrolled": false
   },
   "outputs": [
    {
     "data": {
      "image/png": "[encoded data removed]",
      "text/plain": [
       "<Figure size 800x300 with 1 Axes>"
      ]
     },
     "metadata": {},
     "output_type": "display_data"
    },
    {
     "data": {
      "application/javascript": [
       "\n",
       "            setTimeout(function() {\n",
       "                var nbb_cell_id = 250;\n",
       "                var nbb_unformatted_code = \"bins = [0, 10, 20, 30, 40, 50, 60, 70, 80, 90]\\nlabels = [\\\"0-9\\\", \\\"10-19\\\", \\\"20-29\\\", \\\"30-39\\\", \\\"40-49\\\", \\\"50-59\\\", \\\"60-69\\\", \\\"70-79\\\", \\\"80+\\\"]\\ndf[\\\"age_group\\\"] = pd.cut(df[\\\"age\\\"], bins=bins, labels=labels)\\nrace_counts = df.groupby([\\\"race\\\", \\\"age_group\\\"]).size().unstack()\\nfig, axs = plt.subplots(nrows=3, ncols=3, figsize=(14, 6))\\n\\nages = race_counts.columns.tolist()\\nages_index = 0\\nfor i in range(3):\\n    for j in range(3):\\n        if ages_index < len(ages):\\n            age = ages[ages_index]\\n            ax = axs[i, j]\\n            race_counts[age].plot(kind=\\\"bar\\\", ax=ax, color=plt.cm.tab10(range(6)))\\n            ax.set_xlabel(\\\"Race\\\")\\n            ax.set_ylabel(\\\"Victim Quantity\\\")\\n            ax.set_title(\\n                f\\\"Distribution of Race for Age Groups {age} years\\\", fontsize=10\\n            )\\n            ages_index += 1\\n        else:\\n            break\\n\\nfig.legend(\\n    labels=[\\n        \\\"A: Asian\\\",\\n        \\\"B: Black\\\",\\n        \\\"H: Hispanic\\\",\\n        \\\"N: Native American\\\",\\n        \\\"O: Other Race\\\",\\n        \\\"W: White\\\",\\n    ],\\n    prop={\\\"size\\\": 10},\\n    title=\\\"Race\\\",\\n    title_fontsize=10,\\n    labelcolor=plt.cm.tab10(range(6)),\\n    loc=\\\"upper center\\\",\\n    ncol=6,\\n    bbox_to_anchor=(0.5, -0.03),\\n    bbox_transform=plt.gcf().transFigure,\\n)\\nplt.subplots_adjust(right=1.2)\\nplt.tight_layout()\";\n",
       "                var nbb_formatted_code = \"bins = [0, 10, 20, 30, 40, 50, 60, 70, 80, 90]\\nlabels = [\\\"0-9\\\", \\\"10-19\\\", \\\"20-29\\\", \\\"30-39\\\", \\\"40-49\\\", \\\"50-59\\\", \\\"60-69\\\", \\\"70-79\\\", \\\"80+\\\"]\\ndf[\\\"age_group\\\"] = pd.cut(df[\\\"age\\\"], bins=bins, labels=labels)\\nrace_counts = df.groupby([\\\"race\\\", \\\"age_group\\\"]).size().unstack()\\nfig, axs = plt.subplots(nrows=3, ncols=3, figsize=(14, 6))\\n\\nages = race_counts.columns.tolist()\\nages_index = 0\\nfor i in range(3):\\n    for j in range(3):\\n        if ages_index < len(ages):\\n            age = ages[ages_index]\\n            ax = axs[i, j]\\n            race_counts[age].plot(kind=\\\"bar\\\", ax=ax, color=plt.cm.tab10(range(6)))\\n            ax.set_xlabel(\\\"Race\\\")\\n            ax.set_ylabel(\\\"Victim Quantity\\\")\\n            ax.set_title(\\n                f\\\"Distribution of Race for Age Groups {age} years\\\", fontsize=10\\n            )\\n            ages_index += 1\\n        else:\\n            break\\n\\nfig.legend(\\n    labels=[\\n        \\\"A: Asian\\\",\\n        \\\"B: Black\\\",\\n        \\\"H: Hispanic\\\",\\n        \\\"N: Native American\\\",\\n        \\\"O: Other Race\\\",\\n        \\\"W: White\\\",\\n    ],\\n    prop={\\\"size\\\": 10},\\n    title=\\\"Race\\\",\\n    title_fontsize=10,\\n    labelcolor=plt.cm.tab10(range(6)),\\n    loc=\\\"upper center\\\",\\n    ncol=6,\\n    bbox_to_anchor=(0.5, -0.03),\\n    bbox_transform=plt.gcf().transFigure,\\n)\\nplt.subplots_adjust(right=1.2)\\nplt.tight_layout()\";\n",
       "                var nbb_cells = Jupyter.notebook.get_cells();\n",
       "                for (var i = 0; i < nbb_cells.length; ++i) {\n",
       "                    if (nbb_cells[i].input_prompt_number == nbb_cell_id) {\n",
       "                        if (nbb_cells[i].get_text() == nbb_unformatted_code) {\n",
       "                             nbb_cells[i].set_text(nbb_formatted_code);\n",
       "                        }\n",
       "                        break;\n",
       "                    }\n",
       "                }\n",
       "            }, 500);\n",
       "            "
      ],
      "text/plain": [
       "<IPython.core.display.Javascript object>"
      ]
     },
     "metadata": {},
     "output_type": "display_data"
    }
   ],
   "source": [
    "df = df.dropna(subset=[\"age\"])\n",
    "ages = df[\"age\"].tolist()\n",
    "plt.figure(figsize=(8, 3))\n",
    "age_histogram = Counter(min(age // 10 * 10, 90) for age in ages)\n",
    "distribution = plt.bar(\n",
    "    [x + 5 for x in age_histogram.keys()], age_histogram.values(), width=10, edgecolor=(0, 0, 0)\n",
    ")\n",
    "for x, count in zip([x + 5 for x in age_histogram.keys()], age_histogram.values()):\n",
    "    plt.text(\n",
    "        x,\n",
    "        count + 2,\n",
    "        str(count),\n",
    "        ha=\"center\",\n",
    "        color=\"k\",\n",
    "        fontsize=10,\n",
    "        fontweight=\"black\",\n",
    "        alpha=0.8,\n",
    "    )\n",
    "plt.xticks([10 * i for i in range(10)])\n",
    "plt.xlabel(\"Victim age in decile\")\n",
    "plt.yticks(ticks=[], label=\"\")\n",
    "plt.title(\"Distribution of the Quantity of Victims by Age \")\n",
    "for spine in plt.gca().spines.values():\n",
    "    spine.set_visible(False)\n",
    "plt.show()"
   ]
  },
  {
   "cell_type": "markdown",
   "id": "0ff641b1",
   "metadata": {},
   "source": [
    "* The graph below shows that the distribution by age and race corresponds to the racial distribution of the population:\n",
    "the majority of victims are of working age, white, black and Hispanic races. "
   ]
  },
  {
   "cell_type": "code",
   "execution_count": 250,
   "id": "1e7363e0",
   "metadata": {
    "scrolled": false
   },
   "outputs": [
    {
     "data": {
      "image/png": "[encoded data removed]",
      "text/plain": [
       "<Figure size 1400x600 with 9 Axes>"
      ]
     },
     "metadata": {},
     "output_type": "display_data"
    },
    {
     "data": {
      "application/javascript": [
       "\n",
       "            setTimeout(function() {\n",
       "                var nbb_cell_id = 249;\n",
       "                var nbb_unformatted_code = \"work_df = pd.read_csv(\\\"output.csv\\\")\\nwork_df = work_df[work_df[\\\"Year\\\"] == 2016]\\ntop_unemploid = (\\n    work_df.groupby([\\\"State\\\"])\\n    .agg({\\\"Rate\\\": \\\"mean\\\"})\\n    .sort_values(by=\\\"Rate\\\", ascending=False)[:3]\\n)\\ntop_unemploid\";\n",
       "                var nbb_formatted_code = \"work_df = pd.read_csv(\\\"output.csv\\\")\\nwork_df = work_df[work_df[\\\"Year\\\"] == 2016]\\ntop_unemploid = (\\n    work_df.groupby([\\\"State\\\"])\\n    .agg({\\\"Rate\\\": \\\"mean\\\"})\\n    .sort_values(by=\\\"Rate\\\", ascending=False)[:3]\\n)\\ntop_unemploid\";\n",
       "                var nbb_cells = Jupyter.notebook.get_cells();\n",
       "                for (var i = 0; i < nbb_cells.length; ++i) {\n",
       "                    if (nbb_cells[i].input_prompt_number == nbb_cell_id) {\n",
       "                        if (nbb_cells[i].get_text() == nbb_unformatted_code) {\n",
       "                             nbb_cells[i].set_text(nbb_formatted_code);\n",
       "                        }\n",
       "                        break;\n",
       "                    }\n",
       "                }\n",
       "            }, 500);\n",
       "            "
      ],
      "text/plain": [
       "<IPython.core.display.Javascript object>"
      ]
     },
     "metadata": {},
     "output_type": "display_data"
    }
   ],
   "source": [
    "bins = [0, 10, 20, 30, 40, 50, 60, 70, 80, 90]\n",
    "labels = [\"0-9\", \"10-19\", \"20-29\", \"30-39\", \"40-49\", \"50-59\", \"60-69\", \"70-79\", \"80+\"]\n",
    "df[\"age_group\"] = pd.cut(df[\"age\"], bins=bins, labels=labels)\n",
    "race_counts = df.groupby([\"race\", \"age_group\"]).size().unstack()\n",
    "fig, axs = plt.subplots(nrows=3, ncols=3, figsize=(14, 6))\n",
    "\n",
    "ages = race_counts.columns.tolist()\n",
    "ages_index = 0\n",
    "for i in range(3):\n",
    "    for j in range(3):\n",
    "        if ages_index < len(ages):\n",
    "            age = ages[ages_index]\n",
    "            ax = axs[i, j]\n",
    "            race_counts[age].plot(kind=\"bar\", ax=ax, color=plt.cm.tab10(range(6)))\n",
    "            ax.set_xlabel(\"Race\")\n",
    "            ax.set_ylabel(\"Victim Quantity\")\n",
    "            ax.set_title(\n",
    "                f\"Distribution of Race for Age Groups {age} years\", fontsize=10\n",
    "            )\n",
    "            ages_index += 1\n",
    "        else:\n",
    "            break\n",
    "\n",
    "fig.legend(\n",
    "    labels=[\n",
    "        \"A: Asian\",\n",
    "        \"B: Black\",\n",
    "        \"H: Hispanic\",\n",
    "        \"N: Native American\",\n",
    "        \"O: Other Race\",\n",
    "        \"W: White\",\n",
    "    ],\n",
    "    prop={\"size\": 10},\n",
    "    title=\"Race\",\n",
    "    title_fontsize=10,\n",
    "    labelcolor=plt.cm.tab10(range(6)),\n",
    "    loc=\"upper center\",\n",
    "    ncol=6,\n",
    "    bbox_to_anchor=(0.5, -0.03),\n",
    "    bbox_transform=plt.gcf().transFigure,\n",
    ")\n",
    "plt.subplots_adjust(right=1.2)\n",
    "plt.tight_layout()"
   ]
  },
  {
   "cell_type": "markdown",
   "id": "b11a6c5a",
   "metadata": {},
   "source": [
    "Conclusion:<br>\n",
    "* As we can see, the available data show that the majority of victims are men of working age. The question is whether the unemployment rate in the state is relevant in this case. "
   ]
  },
  {
   "cell_type": "markdown",
   "id": "d6165d91",
   "metadata": {},
   "source": [
    "Since we found that most missing data is from 'race' column, let's check if we can replace missing values. \n",
    "Most common way would be to use mode function and replace missing value with the most frequently recurring race in\n",
    "the state of the accident. However this method is not efficient if we have more than one frequent races.\n",
    "so my approach would be demographic distribution by race in each state."
   ]
  },
  {
   "cell_type": "markdown",
   "id": "2044a2ef",
   "metadata": {},
   "source": [
    "### TOP 3 states with highest incident rate?"
   ]
  },
  {
   "cell_type": "markdown",
   "id": "870ef3ef",
   "metadata": {},
   "source": [
    "* For further investigation let's check the states with highest victim quantity:"
   ]
  },
  {
   "cell_type": "code",
   "execution_count": 48,
   "id": "13704379",
   "metadata": {},
   "outputs": [
    {
     "data": {
      "text/plain": [
       "California    345\n",
       "Texas         190\n",
       "Florida       126\n",
       "Name: state_name, dtype: int64"
      ]
     },
     "execution_count": 48,
     "metadata": {},
     "output_type": "execute_result"
    }
   ],
   "source": [
    "df['state_name'].value_counts().head(3)"
   ]
  },
  {
   "cell_type": "markdown",
   "id": "1f8721d9",
   "metadata": {},
   "source": [
    "### How Does Unemployment Affect the Number of Victims?"
   ]
  },
  {
   "cell_type": "markdown",
   "id": "84f7cce4",
   "metadata": {},
   "source": [
    "* Let's see the top 3 states with the highest unemployment rate in 2016:<br>\n",
    " ***Note:*** dataset is taken: https://www.kaggle.com/datasets/jayrav13/unemployment-by-county-us"
   ]
  },
  {
   "cell_type": "code",
   "execution_count": 249,
   "id": "4388598e",
   "metadata": {},
   "outputs": [
    {
     "data": {
      "text/html": [
       "<div>\n",
       "<style scoped>\n",
       "    .dataframe tbody tr th:only-of-type {\n",
       "        vertical-align: middle;\n",
       "    }\n",
       "\n",
       "    .dataframe tbody tr th {\n",
       "        vertical-align: top;\n",
       "    }\n",
       "\n",
       "    .dataframe thead th {\n",
       "        text-align: right;\n",
       "    }\n",
       "</style>\n",
       "<table border=\"1\" class=\"dataframe\">\n",
       "  <thead>\n",
       "    <tr style=\"text-align: right;\">\n",
       "      <th></th>\n",
       "      <th>Rate</th>\n",
       "    </tr>\n",
       "    <tr>\n",
       "      <th>State</th>\n",
       "      <th></th>\n",
       "    </tr>\n",
       "  </thead>\n",
       "  <tbody>\n",
       "    <tr>\n",
       "      <th>Arizona</th>\n",
       "      <td>7.732778</td>\n",
       "    </tr>\n",
       "    <tr>\n",
       "      <th>Louisiana</th>\n",
       "      <td>7.224414</td>\n",
       "    </tr>\n",
       "    <tr>\n",
       "      <th>West Virginia</th>\n",
       "      <td>7.023939</td>\n",
       "    </tr>\n",
       "  </tbody>\n",
       "</table>\n",
       "</div>"
      ],
      "text/plain": [
       "                   Rate\n",
       "State                  \n",
       "Arizona        7.732778\n",
       "Louisiana      7.224414\n",
       "West Virginia  7.023939"
      ]
     },
     "execution_count": 249,
     "metadata": {},
     "output_type": "execute_result"
    },
    {
     "data": {
      "application/javascript": [
       "\n",
       "            setTimeout(function() {\n",
       "                var nbb_cell_id = 248;\n",
       "                var nbb_unformatted_code = \"wage = pd.read_csv(r\\\"Minimum Wage Data.csv\\\", encoding=\\\"cp1252\\\")\\nwage = wage[[\\\"Year\\\", \\\"State\\\", \\\"State.Minimum.Wage\\\", \\\"Federal.Minimum.Wage\\\"]]\\nwage = wage[wage[\\\"Year\\\"] == 2016]\\nwage.loc[wage[\\\"State.Minimum.Wage\\\"] == 0.00, \\\"State.Minimum.Wage\\\"] = wage.loc[\\n    wage[\\\"State.Minimum.Wage\\\"] == 0.00, \\\"Federal.Minimum.Wage\\\"\\n]\\nprint(\\n    \\\"States with largest minimum wage, $:\\\\n\\\",\\n    wage.groupby(\\\"State\\\")[\\\"State.Minimum.Wage\\\"]\\n    .max()\\n    .nlargest(\\n        3,\\n    ),\\n)\\nprint(\\\"*\\\" * 50)\\nprint(\\n    \\\"States with smallest minimum wage, $:\\\\n\\\",\\n    wage.groupby(\\\"State\\\")[\\\"State.Minimum.Wage\\\"]\\n    .min()\\n    .nsmallest(\\n        3,\\n    ),\\n)\";\n",
       "                var nbb_formatted_code = \"wage = pd.read_csv(r\\\"Minimum Wage Data.csv\\\", encoding=\\\"cp1252\\\")\\nwage = wage[[\\\"Year\\\", \\\"State\\\", \\\"State.Minimum.Wage\\\", \\\"Federal.Minimum.Wage\\\"]]\\nwage = wage[wage[\\\"Year\\\"] == 2016]\\nwage.loc[wage[\\\"State.Minimum.Wage\\\"] == 0.00, \\\"State.Minimum.Wage\\\"] = wage.loc[\\n    wage[\\\"State.Minimum.Wage\\\"] == 0.00, \\\"Federal.Minimum.Wage\\\"\\n]\\nprint(\\n    \\\"States with largest minimum wage, $:\\\\n\\\",\\n    wage.groupby(\\\"State\\\")[\\\"State.Minimum.Wage\\\"]\\n    .max()\\n    .nlargest(\\n        3,\\n    ),\\n)\\nprint(\\\"*\\\" * 50)\\nprint(\\n    \\\"States with smallest minimum wage, $:\\\\n\\\",\\n    wage.groupby(\\\"State\\\")[\\\"State.Minimum.Wage\\\"]\\n    .min()\\n    .nsmallest(\\n        3,\\n    ),\\n)\";\n",
       "                var nbb_cells = Jupyter.notebook.get_cells();\n",
       "                for (var i = 0; i < nbb_cells.length; ++i) {\n",
       "                    if (nbb_cells[i].input_prompt_number == nbb_cell_id) {\n",
       "                        if (nbb_cells[i].get_text() == nbb_unformatted_code) {\n",
       "                             nbb_cells[i].set_text(nbb_formatted_code);\n",
       "                        }\n",
       "                        break;\n",
       "                    }\n",
       "                }\n",
       "            }, 500);\n",
       "            "
      ],
      "text/plain": [
       "<IPython.core.display.Javascript object>"
      ]
     },
     "metadata": {},
     "output_type": "display_data"
    }
   ],
   "source": [
    "work_df = pd.read_csv(\"output.csv\")\n",
    "work_df = work_df[work_df[\"Year\"] == 2016]\n",
    "top_unemploid = (\n",
    "    work_df.groupby([\"State\"])\n",
    "    .agg({\"Rate\": \"mean\"})\n",
    "    .sort_values(by=\"Rate\", ascending=False)[:3]\n",
    ")\n",
    "top_unemploid"
   ]
  },
  {
   "cell_type": "markdown",
   "id": "6299403f",
   "metadata": {},
   "source": [
    "* As we can see the states with most victim number do not correlate with states with highest unemployment rate."
   ]
  },
  {
   "cell_type": "markdown",
   "id": "8c68f67a",
   "metadata": {},
   "source": [
    "### Does the State Minimum Wage Affect the High Number of Victims?"
   ]
  },
  {
   "cell_type": "markdown",
   "id": "4dede8c8",
   "metadata": {},
   "source": [
    "* To find the actual minimum wage in every state I will use additional dataset."
   ]
  },
  {
   "cell_type": "markdown",
   "id": "1e6f14c0",
   "metadata": {},
   "source": [
    "**Note:** dataset is taken: https://www.kaggle.com/datasets/lislejoem/us-minimum-wage-by-state-from-1968-to-2017"
   ]
  },
  {
   "cell_type": "code",
   "execution_count": 248,
   "id": "323e9982",
   "metadata": {},
   "outputs": [
    {
     "name": "stdout",
     "output_type": "stream",
     "text": [
      "States with largest minimum wage, $:\n",
      " State\n",
      "District of Columbia    11.5\n",
      "California              10.0\n",
      "Massachusetts           10.0\n",
      "Name: State.Minimum.Wage, dtype: float64\n",
      "**************************************************\n",
      "States with smallest minimum wage, $:\n",
      " State\n",
      "Oklahoma               2.00\n",
      "U.S. Virgin Islands    4.30\n",
      "Puerto Rico            5.08\n",
      "Name: State.Minimum.Wage, dtype: float64\n"
     ]
    },
    {
     "data": {
      "application/javascript": [
       "\n",
       "            setTimeout(function() {\n",
       "                var nbb_cell_id = 247;\n",
       "                var nbb_unformatted_code = \"def population_proportion(df):\\n    '''Calculate the proportion of races in the population of each state '''\\n    for column_name in df.columns:\\n        df[column_name + \\\"_prop,%\\\"] = (\\n            df[column_name] * 100 / population[\\\"Total:\\\"]\\n        ).round(2)\\n    return df\\n\\n\\npop = population_proportion(population)\\npop = population.drop(\\n    [\\\"White\\\", \\\"Black\\\", \\\"Asian\\\", \\\"Native American\\\", \\\"Other race\\\", \\\"Total:_prop,%\\\"],\\n    axis=1,\\n)\\npop.head()\";\n",
       "                var nbb_formatted_code = \"def population_proportion(df):\\n    \\\"\\\"\\\"Calculate the proportion of races in the population of each state\\\"\\\"\\\"\\n    for column_name in df.columns:\\n        df[column_name + \\\"_prop,%\\\"] = (\\n            df[column_name] * 100 / population[\\\"Total:\\\"]\\n        ).round(2)\\n    return df\\n\\n\\npop = population_proportion(population)\\npop = population.drop(\\n    [\\\"White\\\", \\\"Black\\\", \\\"Asian\\\", \\\"Native American\\\", \\\"Other race\\\", \\\"Total:_prop,%\\\"],\\n    axis=1,\\n)\\npop.head()\";\n",
       "                var nbb_cells = Jupyter.notebook.get_cells();\n",
       "                for (var i = 0; i < nbb_cells.length; ++i) {\n",
       "                    if (nbb_cells[i].input_prompt_number == nbb_cell_id) {\n",
       "                        if (nbb_cells[i].get_text() == nbb_unformatted_code) {\n",
       "                             nbb_cells[i].set_text(nbb_formatted_code);\n",
       "                        }\n",
       "                        break;\n",
       "                    }\n",
       "                }\n",
       "            }, 500);\n",
       "            "
      ],
      "text/plain": [
       "<IPython.core.display.Javascript object>"
      ]
     },
     "metadata": {},
     "output_type": "display_data"
    }
   ],
   "source": [
    "wage = pd.read_csv(r\"Minimum Wage Data.csv\", encoding=\"cp1252\")\n",
    "wage = wage[[\"Year\", \"State\", \"State.Minimum.Wage\", \"Federal.Minimum.Wage\"]]\n",
    "wage = wage[wage[\"Year\"] == 2016]\n",
    "wage.loc[wage[\"State.Minimum.Wage\"] == 0.00, \"State.Minimum.Wage\"] = wage.loc[\n",
    "    wage[\"State.Minimum.Wage\"] == 0.00, \"Federal.Minimum.Wage\"\n",
    "]\n",
    "print(\n",
    "    \"States with largest minimum wage, $:\\n\",\n",
    "    wage.groupby(\"State\")[\"State.Minimum.Wage\"]\n",
    "    .max()\n",
    "    .nlargest(\n",
    "        3,\n",
    "    ),\n",
    ")\n",
    "print(\"*\" * 50)\n",
    "print(\n",
    "    \"States with smallest minimum wage, $:\\n\",\n",
    "    wage.groupby(\"State\")[\"State.Minimum.Wage\"]\n",
    "    .min()\n",
    "    .nsmallest(\n",
    "        3,\n",
    "    ),\n",
    ")"
   ]
  },
  {
   "cell_type": "markdown",
   "id": "c5823c24",
   "metadata": {},
   "source": [
    "Conclusion:\n",
    "* The assumption that the number of victims depends on the level of unemployment in a country or on the minimum wage being too low is not correct, as the data show that these parameters do not affect the number of victims. On the contrary, California has the second highest hourly wage, and therefore the highest number of victims. This shows that the state is a magnet for people, which is why it has a high number of incidents."
   ]
  },
  {
   "cell_type": "markdown",
   "id": "07d3ce5a",
   "metadata": {},
   "source": [
    "### How the Number of Victims is Racially Distributed?"
   ]
  },
  {
   "cell_type": "markdown",
   "id": "1d034eef",
   "metadata": {},
   "source": [
    "This socially sensitive issue has become particularly acute since the emergence of the Black lives matter movement in 2013. The issue raised by the activists has led to unrest and active mass resistance not only in the US, but also in other countries, so this aspect is also important to investigate: how the number of victims varies proportionally between the different races present."
   ]
  },
  {
   "cell_type": "markdown",
   "id": "528c9498",
   "metadata": {},
   "source": [
    "For analysis purpose let's get 2020 year racial diversity census from United States Census Bureau: https://www.census.gov/"
   ]
  },
  {
   "cell_type": "code",
   "execution_count": 193,
   "id": "526a9b63",
   "metadata": {},
   "outputs": [
    {
     "data": {
      "text/html": [
       "<div>\n",
       "<style scoped>\n",
       "    .dataframe tbody tr th:only-of-type {\n",
       "        vertical-align: middle;\n",
       "    }\n",
       "\n",
       "    .dataframe tbody tr th {\n",
       "        vertical-align: top;\n",
       "    }\n",
       "\n",
       "    .dataframe thead th {\n",
       "        text-align: right;\n",
       "    }\n",
       "</style>\n",
       "<table border=\"1\" class=\"dataframe\">\n",
       "  <thead>\n",
       "    <tr style=\"text-align: right;\">\n",
       "      <th></th>\n",
       "      <th>Label (Grouping)</th>\n",
       "      <th>Alabama</th>\n",
       "      <th>Alaska</th>\n",
       "      <th>Arizona</th>\n",
       "      <th>Arkansas</th>\n",
       "      <th>California</th>\n",
       "      <th>Colorado</th>\n",
       "      <th>Connecticut</th>\n",
       "      <th>Delaware</th>\n",
       "      <th>District of Columbia</th>\n",
       "      <th>...</th>\n",
       "      <th>Tennessee</th>\n",
       "      <th>Texas</th>\n",
       "      <th>Utah</th>\n",
       "      <th>Vermont</th>\n",
       "      <th>Virginia</th>\n",
       "      <th>Washington</th>\n",
       "      <th>West Virginia</th>\n",
       "      <th>Wisconsin</th>\n",
       "      <th>Wyoming</th>\n",
       "      <th>Puerto Rico</th>\n",
       "    </tr>\n",
       "  </thead>\n",
       "  <tbody>\n",
       "    <tr>\n",
       "      <th>0</th>\n",
       "      <td>Total:</td>\n",
       "      <td>5,024,279</td>\n",
       "      <td>733,391</td>\n",
       "      <td>7,151,502</td>\n",
       "      <td>3,011,524</td>\n",
       "      <td>39,538,223</td>\n",
       "      <td>5,773,714</td>\n",
       "      <td>3,605,944</td>\n",
       "      <td>989,948</td>\n",
       "      <td>689,545</td>\n",
       "      <td>...</td>\n",
       "      <td>6,910,840</td>\n",
       "      <td>29,145,505</td>\n",
       "      <td>3,271,616</td>\n",
       "      <td>643,077</td>\n",
       "      <td>8,631,393</td>\n",
       "      <td>7,705,281</td>\n",
       "      <td>1,793,716</td>\n",
       "      <td>5,893,718</td>\n",
       "      <td>576,851</td>\n",
       "      <td>3,285,874</td>\n",
       "    </tr>\n",
       "    <tr>\n",
       "      <th>1</th>\n",
       "      <td>Population of one race:</td>\n",
       "      <td>4,767,326</td>\n",
       "      <td>643,867</td>\n",
       "      <td>6,154,696</td>\n",
       "      <td>2,797,949</td>\n",
       "      <td>33,777,988</td>\n",
       "      <td>5,066,044</td>\n",
       "      <td>3,273,040</td>\n",
       "      <td>913,430</td>\n",
       "      <td>633,468</td>\n",
       "      <td>...</td>\n",
       "      <td>6,497,942</td>\n",
       "      <td>24,011,767</td>\n",
       "      <td>2,992,603</td>\n",
       "      <td>606,051</td>\n",
       "      <td>7,925,686</td>\n",
       "      <td>6,868,622</td>\n",
       "      <td>1,708,772</td>\n",
       "      <td>5,534,184</td>\n",
       "      <td>533,378</td>\n",
       "      <td>1,650,083</td>\n",
       "    </tr>\n",
       "    <tr>\n",
       "      <th>2</th>\n",
       "      <td>White alone</td>\n",
       "      <td>3,220,452</td>\n",
       "      <td>435,392</td>\n",
       "      <td>4,322,337</td>\n",
       "      <td>2,114,512</td>\n",
       "      <td>16,296,122</td>\n",
       "      <td>4,082,927</td>\n",
       "      <td>2,395,128</td>\n",
       "      <td>597,763</td>\n",
       "      <td>273,194</td>\n",
       "      <td>...</td>\n",
       "      <td>4,990,938</td>\n",
       "      <td>14,609,365</td>\n",
       "      <td>2,573,413</td>\n",
       "      <td>577,751</td>\n",
       "      <td>5,208,856</td>\n",
       "      <td>5,130,920</td>\n",
       "      <td>1,610,749</td>\n",
       "      <td>4,737,545</td>\n",
       "      <td>488,374</td>\n",
       "      <td>560,592</td>\n",
       "    </tr>\n",
       "    <tr>\n",
       "      <th>3</th>\n",
       "      <td>Black or African American alone</td>\n",
       "      <td>1,296,162</td>\n",
       "      <td>21,898</td>\n",
       "      <td>339,150</td>\n",
       "      <td>453,783</td>\n",
       "      <td>2,237,044</td>\n",
       "      <td>234,828</td>\n",
       "      <td>388,675</td>\n",
       "      <td>218,899</td>\n",
       "      <td>285,810</td>\n",
       "      <td>...</td>\n",
       "      <td>1,092,948</td>\n",
       "      <td>3,552,997</td>\n",
       "      <td>40,058</td>\n",
       "      <td>9,034</td>\n",
       "      <td>1,607,581</td>\n",
       "      <td>307,565</td>\n",
       "      <td>65,813</td>\n",
       "      <td>376,256</td>\n",
       "      <td>5,232</td>\n",
       "      <td>228,711</td>\n",
       "    </tr>\n",
       "    <tr>\n",
       "      <th>4</th>\n",
       "      <td>American Indian and Alaska Native alone</td>\n",
       "      <td>33,625</td>\n",
       "      <td>111,575</td>\n",
       "      <td>319,512</td>\n",
       "      <td>27,177</td>\n",
       "      <td>631,016</td>\n",
       "      <td>74,129</td>\n",
       "      <td>16,051</td>\n",
       "      <td>5,148</td>\n",
       "      <td>3,193</td>\n",
       "      <td>...</td>\n",
       "      <td>28,044</td>\n",
       "      <td>278,948</td>\n",
       "      <td>41,644</td>\n",
       "      <td>2,289</td>\n",
       "      <td>40,007</td>\n",
       "      <td>121,468</td>\n",
       "      <td>3,706</td>\n",
       "      <td>60,428</td>\n",
       "      <td>13,898</td>\n",
       "      <td>17,870</td>\n",
       "    </tr>\n",
       "  </tbody>\n",
       "</table>\n",
       "<p>5 rows × 53 columns</p>\n",
       "</div>"
      ],
      "text/plain": [
       "                                  Label (Grouping)    Alabama   Alaska  \\\n",
       "0                                           Total:  5,024,279  733,391   \n",
       "1                          Population of one race:  4,767,326  643,867   \n",
       "2                                      White alone  3,220,452  435,392   \n",
       "3                  Black or African American alone  1,296,162   21,898   \n",
       "4          American Indian and Alaska Native alone     33,625  111,575   \n",
       "\n",
       "     Arizona   Arkansas  California   Colorado Connecticut Delaware  \\\n",
       "0  7,151,502  3,011,524  39,538,223  5,773,714   3,605,944  989,948   \n",
       "1  6,154,696  2,797,949  33,777,988  5,066,044   3,273,040  913,430   \n",
       "2  4,322,337  2,114,512  16,296,122  4,082,927   2,395,128  597,763   \n",
       "3    339,150    453,783   2,237,044    234,828     388,675  218,899   \n",
       "4    319,512     27,177     631,016     74,129      16,051    5,148   \n",
       "\n",
       "  District of Columbia  ...  Tennessee       Texas       Utah  Vermont  \\\n",
       "0              689,545  ...  6,910,840  29,145,505  3,271,616  643,077   \n",
       "1              633,468  ...  6,497,942  24,011,767  2,992,603  606,051   \n",
       "2              273,194  ...  4,990,938  14,609,365  2,573,413  577,751   \n",
       "3              285,810  ...  1,092,948   3,552,997     40,058    9,034   \n",
       "4                3,193  ...     28,044     278,948     41,644    2,289   \n",
       "\n",
       "    Virginia Washington West Virginia  Wisconsin  Wyoming Puerto Rico  \n",
       "0  8,631,393  7,705,281     1,793,716  5,893,718  576,851   3,285,874  \n",
       "1  7,925,686  6,868,622     1,708,772  5,534,184  533,378   1,650,083  \n",
       "2  5,208,856  5,130,920     1,610,749  4,737,545  488,374     560,592  \n",
       "3  1,607,581    307,565        65,813    376,256    5,232     228,711  \n",
       "4     40,007    121,468         3,706     60,428   13,898      17,870  \n",
       "\n",
       "[5 rows x 53 columns]"
      ]
     },
     "execution_count": 193,
     "metadata": {},
     "output_type": "execute_result"
    },
    {
     "data": {
      "application/javascript": [
       "\n",
       "            setTimeout(function() {\n",
       "                var nbb_cell_id = 192;\n",
       "                var nbb_unformatted_code = \"def population_proportion(df):\\n    for column_name in df.columns:\\n        df[column_name + '_prop,%'] = (df[column_name] * 100 / population['Total:']).round(2)\\n    return df\\n\\npop = population_proportion(population)\\npop = population.drop(['White', 'Black', 'Asian', 'Native American', 'Other race', 'Total:_prop,%'], axis=1)\\npop.head()\";\n",
       "                var nbb_formatted_code = \"def population_proportion(df):\\n    for column_name in df.columns:\\n        df[column_name + \\\"_prop,%\\\"] = (\\n            df[column_name] * 100 / population[\\\"Total:\\\"]\\n        ).round(2)\\n    return df\\n\\n\\npop = population_proportion(population)\\npop = population.drop(\\n    [\\\"White\\\", \\\"Black\\\", \\\"Asian\\\", \\\"Native American\\\", \\\"Other race\\\", \\\"Total:_prop,%\\\"],\\n    axis=1,\\n)\\npop.head()\";\n",
       "                var nbb_cells = Jupyter.notebook.get_cells();\n",
       "                for (var i = 0; i < nbb_cells.length; ++i) {\n",
       "                    if (nbb_cells[i].input_prompt_number == nbb_cell_id) {\n",
       "                        if (nbb_cells[i].get_text() == nbb_unformatted_code) {\n",
       "                             nbb_cells[i].set_text(nbb_formatted_code);\n",
       "                        }\n",
       "                        break;\n",
       "                    }\n",
       "                }\n",
       "            }, 500);\n",
       "            "
      ],
      "text/plain": [
       "<IPython.core.display.Javascript object>"
      ]
     },
     "metadata": {},
     "output_type": "display_data"
    }
   ],
   "source": [
    "data = pd.read_csv(\"DECENNIALPL2020.P1-2023-02-11T163204.csv\")\n",
    "data.head()"
   ]
  },
  {
   "cell_type": "markdown",
   "id": "56cd0f68",
   "metadata": {},
   "source": [
    "* Let's make the data more presentable and accomodate to our needs (change numeric values and summarize columns):"
   ]
  },
  {
   "cell_type": "markdown",
   "id": "115bd80e",
   "metadata": {},
   "source": [
    "* We need to summarize 4 rows to get 'Native American' and 'Other race' quantity and drop redundant rows:"
   ]
  },
  {
   "cell_type": "code",
   "execution_count": 194,
   "id": "4076903f",
   "metadata": {},
   "outputs": [
    {
     "data": {
      "text/html": [
       "<div>\n",
       "<style scoped>\n",
       "    .dataframe tbody tr th:only-of-type {\n",
       "        vertical-align: middle;\n",
       "    }\n",
       "\n",
       "    .dataframe tbody tr th {\n",
       "        vertical-align: top;\n",
       "    }\n",
       "\n",
       "    .dataframe thead th {\n",
       "        text-align: right;\n",
       "    }\n",
       "</style>\n",
       "<table border=\"1\" class=\"dataframe\">\n",
       "  <thead>\n",
       "    <tr style=\"text-align: right;\">\n",
       "      <th>Label (Grouping)</th>\n",
       "      <th>Total:</th>\n",
       "      <th>White</th>\n",
       "      <th>Black</th>\n",
       "      <th>Asian</th>\n",
       "      <th>Native American</th>\n",
       "      <th>Other race</th>\n",
       "    </tr>\n",
       "  </thead>\n",
       "  <tbody>\n",
       "    <tr>\n",
       "      <th>Alabama</th>\n",
       "      <td>5024279</td>\n",
       "      <td>3220452</td>\n",
       "      <td>1296162</td>\n",
       "      <td>76660</td>\n",
       "      <td>36609</td>\n",
       "      <td>394396</td>\n",
       "    </tr>\n",
       "    <tr>\n",
       "      <th>Alaska</th>\n",
       "      <td>733391</td>\n",
       "      <td>435392</td>\n",
       "      <td>21898</td>\n",
       "      <td>44032</td>\n",
       "      <td>124273</td>\n",
       "      <td>107796</td>\n",
       "    </tr>\n",
       "    <tr>\n",
       "      <th>Arizona</th>\n",
       "      <td>7151502</td>\n",
       "      <td>4322337</td>\n",
       "      <td>339150</td>\n",
       "      <td>257430</td>\n",
       "      <td>335909</td>\n",
       "      <td>1896676</td>\n",
       "    </tr>\n",
       "    <tr>\n",
       "      <th>Arkansas</th>\n",
       "      <td>3011524</td>\n",
       "      <td>2114512</td>\n",
       "      <td>453783</td>\n",
       "      <td>51839</td>\n",
       "      <td>41710</td>\n",
       "      <td>349680</td>\n",
       "    </tr>\n",
       "    <tr>\n",
       "      <th>California</th>\n",
       "      <td>39538223</td>\n",
       "      <td>16296122</td>\n",
       "      <td>2237044</td>\n",
       "      <td>6085947</td>\n",
       "      <td>788279</td>\n",
       "      <td>14130831</td>\n",
       "    </tr>\n",
       "  </tbody>\n",
       "</table>\n",
       "</div>"
      ],
      "text/plain": [
       "Label (Grouping)    Total:     White    Black    Asian  Native American  \\\n",
       "Alabama            5024279   3220452  1296162    76660            36609   \n",
       "Alaska              733391    435392    21898    44032           124273   \n",
       "Arizona            7151502   4322337   339150   257430           335909   \n",
       "Arkansas           3011524   2114512   453783    51839            41710   \n",
       "California        39538223  16296122  2237044  6085947           788279   \n",
       "\n",
       "Label (Grouping)  Other race  \n",
       "Alabama               394396  \n",
       "Alaska                107796  \n",
       "Arizona              1896676  \n",
       "Arkansas              349680  \n",
       "California          14130831  "
      ]
     },
     "execution_count": 194,
     "metadata": {},
     "output_type": "execute_result"
    },
    {
     "data": {
      "application/javascript": [
       "\n",
       "            setTimeout(function() {\n",
       "                var nbb_cell_id = 193;\n",
       "                var nbb_unformatted_code = \"data = pd.read_csv(\\\"DECENNIALPL2020.P1-2023-02-11T163204.csv\\\")\\ndata.head()\";\n",
       "                var nbb_formatted_code = \"data = pd.read_csv(\\\"DECENNIALPL2020.P1-2023-02-11T163204.csv\\\")\\ndata.head()\";\n",
       "                var nbb_cells = Jupyter.notebook.get_cells();\n",
       "                for (var i = 0; i < nbb_cells.length; ++i) {\n",
       "                    if (nbb_cells[i].input_prompt_number == nbb_cell_id) {\n",
       "                        if (nbb_cells[i].get_text() == nbb_unformatted_code) {\n",
       "                             nbb_cells[i].set_text(nbb_formatted_code);\n",
       "                        }\n",
       "                        break;\n",
       "                    }\n",
       "                }\n",
       "            }, 500);\n",
       "            "
      ],
      "text/plain": [
       "<IPython.core.display.Javascript object>"
      ]
     },
     "metadata": {},
     "output_type": "display_data"
    }
   ],
   "source": [
    "population = data.loc[[0, 2, 3, 4, 5, 6, 7, 8], :]\n",
    "convert_to_numeric = lambda x: pd.to_numeric(x.replace(\",\", \"\"), errors=\"coerce\")\n",
    "population.iloc[:, 1:] = population.iloc[:, 1:].applymap(convert_to_numeric)\n",
    "population.loc[\"Native American\"] = population.iloc[[3, 5], 1:].sum()\n",
    "population.loc[\"Other race\"] = population.iloc[[6, 7], 1:].sum()\n",
    "population.drop(index=[4, 6, 7, 8], inplace=True)\n",
    "population.loc[[2, 3, 5, \"Native American\", \"Other race\"], \"Label (Grouping)\"] = [\n",
    "    \"White\",\n",
    "    \"Black\",\n",
    "    \"Asian\",\n",
    "    \"Native American\",\n",
    "    \"Other race\",\n",
    "]\n",
    "population = population.set_index(\"Label (Grouping)\").T\n",
    "population = population.astype(int)\n",
    "population.head()"
   ]
  },
  {
   "cell_type": "markdown",
   "id": "8fe8499e",
   "metadata": {},
   "source": [
    "* Let's change the data into percentages and see what proportion of the population each race represents separately:\n"
   ]
  },
  {
   "cell_type": "code",
   "execution_count": 247,
   "id": "48fe1e0e",
   "metadata": {},
   "outputs": [
    {
     "data": {
      "text/html": [
       "<div>\n",
       "<style scoped>\n",
       "    .dataframe tbody tr th:only-of-type {\n",
       "        vertical-align: middle;\n",
       "    }\n",
       "\n",
       "    .dataframe tbody tr th {\n",
       "        vertical-align: top;\n",
       "    }\n",
       "\n",
       "    .dataframe thead th {\n",
       "        text-align: right;\n",
       "    }\n",
       "</style>\n",
       "<table border=\"1\" class=\"dataframe\">\n",
       "  <thead>\n",
       "    <tr style=\"text-align: right;\">\n",
       "      <th>Label (Grouping)</th>\n",
       "      <th>Total:</th>\n",
       "      <th>White_prop,%</th>\n",
       "      <th>Black_prop,%</th>\n",
       "      <th>Asian_prop,%</th>\n",
       "      <th>Native American_prop,%</th>\n",
       "      <th>Other race_prop,%</th>\n",
       "      <th>Total:_prop,%_prop,%</th>\n",
       "      <th>White_prop,%_prop,%</th>\n",
       "      <th>Black_prop,%_prop,%</th>\n",
       "      <th>Asian_prop,%_prop,%</th>\n",
       "      <th>Native American_prop,%_prop,%</th>\n",
       "      <th>Other race_prop,%_prop,%</th>\n",
       "    </tr>\n",
       "  </thead>\n",
       "  <tbody>\n",
       "    <tr>\n",
       "      <th>Alabama</th>\n",
       "      <td>5024279</td>\n",
       "      <td>64.10</td>\n",
       "      <td>25.80</td>\n",
       "      <td>1.53</td>\n",
       "      <td>0.73</td>\n",
       "      <td>7.85</td>\n",
       "      <td>0.00</td>\n",
       "      <td>0.00</td>\n",
       "      <td>0.0</td>\n",
       "      <td>0.0</td>\n",
       "      <td>0.0</td>\n",
       "      <td>0.0</td>\n",
       "    </tr>\n",
       "    <tr>\n",
       "      <th>Alaska</th>\n",
       "      <td>733391</td>\n",
       "      <td>59.37</td>\n",
       "      <td>2.99</td>\n",
       "      <td>6.00</td>\n",
       "      <td>16.94</td>\n",
       "      <td>14.70</td>\n",
       "      <td>0.01</td>\n",
       "      <td>0.01</td>\n",
       "      <td>0.0</td>\n",
       "      <td>0.0</td>\n",
       "      <td>0.0</td>\n",
       "      <td>0.0</td>\n",
       "    </tr>\n",
       "    <tr>\n",
       "      <th>Arizona</th>\n",
       "      <td>7151502</td>\n",
       "      <td>60.44</td>\n",
       "      <td>4.74</td>\n",
       "      <td>3.60</td>\n",
       "      <td>4.70</td>\n",
       "      <td>26.52</td>\n",
       "      <td>0.00</td>\n",
       "      <td>0.00</td>\n",
       "      <td>0.0</td>\n",
       "      <td>0.0</td>\n",
       "      <td>0.0</td>\n",
       "      <td>0.0</td>\n",
       "    </tr>\n",
       "    <tr>\n",
       "      <th>Arkansas</th>\n",
       "      <td>3011524</td>\n",
       "      <td>70.21</td>\n",
       "      <td>15.07</td>\n",
       "      <td>1.72</td>\n",
       "      <td>1.39</td>\n",
       "      <td>11.61</td>\n",
       "      <td>0.00</td>\n",
       "      <td>0.00</td>\n",
       "      <td>0.0</td>\n",
       "      <td>0.0</td>\n",
       "      <td>0.0</td>\n",
       "      <td>0.0</td>\n",
       "    </tr>\n",
       "    <tr>\n",
       "      <th>California</th>\n",
       "      <td>39538223</td>\n",
       "      <td>41.22</td>\n",
       "      <td>5.66</td>\n",
       "      <td>15.39</td>\n",
       "      <td>1.99</td>\n",
       "      <td>35.74</td>\n",
       "      <td>-0.00</td>\n",
       "      <td>0.00</td>\n",
       "      <td>0.0</td>\n",
       "      <td>0.0</td>\n",
       "      <td>0.0</td>\n",
       "      <td>0.0</td>\n",
       "    </tr>\n",
       "  </tbody>\n",
       "</table>\n",
       "</div>"
      ],
      "text/plain": [
       "Label (Grouping)    Total:  White_prop,%  Black_prop,%  Asian_prop,%  \\\n",
       "Alabama            5024279         64.10         25.80          1.53   \n",
       "Alaska              733391         59.37          2.99          6.00   \n",
       "Arizona            7151502         60.44          4.74          3.60   \n",
       "Arkansas           3011524         70.21         15.07          1.72   \n",
       "California        39538223         41.22          5.66         15.39   \n",
       "\n",
       "Label (Grouping)  Native American_prop,%  Other race_prop,%  \\\n",
       "Alabama                             0.73               7.85   \n",
       "Alaska                             16.94              14.70   \n",
       "Arizona                             4.70              26.52   \n",
       "Arkansas                            1.39              11.61   \n",
       "California                          1.99              35.74   \n",
       "\n",
       "Label (Grouping)  Total:_prop,%_prop,%  White_prop,%_prop,%  \\\n",
       "Alabama                           0.00                 0.00   \n",
       "Alaska                            0.01                 0.01   \n",
       "Arizona                           0.00                 0.00   \n",
       "Arkansas                          0.00                 0.00   \n",
       "California                       -0.00                 0.00   \n",
       "\n",
       "Label (Grouping)  Black_prop,%_prop,%  Asian_prop,%_prop,%  \\\n",
       "Alabama                           0.0                  0.0   \n",
       "Alaska                            0.0                  0.0   \n",
       "Arizona                           0.0                  0.0   \n",
       "Arkansas                          0.0                  0.0   \n",
       "California                        0.0                  0.0   \n",
       "\n",
       "Label (Grouping)  Native American_prop,%_prop,%  Other race_prop,%_prop,%  \n",
       "Alabama                                     0.0                       0.0  \n",
       "Alaska                                      0.0                       0.0  \n",
       "Arizona                                     0.0                       0.0  \n",
       "Arkansas                                    0.0                       0.0  \n",
       "California                                  0.0                       0.0  "
      ]
     },
     "execution_count": 247,
     "metadata": {},
     "output_type": "execute_result"
    },
    {
     "data": {
      "application/javascript": [
       "\n",
       "            setTimeout(function() {\n",
       "                var nbb_cell_id = 246;\n",
       "                var nbb_unformatted_code = \"def race_mode(data, column_name):\\n    '''Calculate the mode: the most frequent race appearance in each state. If races are of equal frequency - \\n    take the most popular race in the state, from census dataset. Fill the missing values accordingly '''\\n    race_mode = data.groupby(\\\"state_name\\\")[column_name].agg(pd.Series.mode)\\n    data[column_name].fillna(data[\\\"state_name\\\"].map(race_mode), inplace=True)\\n    is_array = race_mode.apply(lambda x: isinstance(x, np.ndarray))\\n    state_names = race_mode[is_array].index\\n    code = {\\n        \\\"White_prop,%\\\": \\\"W\\\",\\n        \\\"Black_prop,%\\\": \\\"B\\\",\\n        \\\"Asian_prop,%\\\": \\\"A\\\",\\n        \\\"Native American_prop,%\\\": \\\"N\\\",\\n        \\\"Other race_prop,%\\\": \\\"O\\\",\\n    }\\n    for i in state_names:\\n        population_max = pop.loc[i].iloc[1:].idxmax()\\n        if (data[\\\"state_name\\\"].isin(state_names)).any() & (\\n            population_max in code.keys()\\n        ):\\n            data[column_name] = np.where(\\n                data[column_name].apply(type) == np.ndarray,\\n                code[population_max],\\n                data[column_name],\\n            )\\n\\n    return data\\n\\n\\nrace_mode(df, \\\"race\\\").head()\";\n",
       "                var nbb_formatted_code = \"def race_mode(data, column_name):\\n    \\\"\\\"\\\"Calculate the mode: the most frequent race appearance in each state. If races are of equal frequency -\\n    take the most popular race in the state, from census dataset. Fill the missing values accordingly\\\"\\\"\\\"\\n    race_mode = data.groupby(\\\"state_name\\\")[column_name].agg(pd.Series.mode)\\n    data[column_name].fillna(data[\\\"state_name\\\"].map(race_mode), inplace=True)\\n    is_array = race_mode.apply(lambda x: isinstance(x, np.ndarray))\\n    state_names = race_mode[is_array].index\\n    code = {\\n        \\\"White_prop,%\\\": \\\"W\\\",\\n        \\\"Black_prop,%\\\": \\\"B\\\",\\n        \\\"Asian_prop,%\\\": \\\"A\\\",\\n        \\\"Native American_prop,%\\\": \\\"N\\\",\\n        \\\"Other race_prop,%\\\": \\\"O\\\",\\n    }\\n    for i in state_names:\\n        population_max = pop.loc[i].iloc[1:].idxmax()\\n        if (data[\\\"state_name\\\"].isin(state_names)).any() & (\\n            population_max in code.keys()\\n        ):\\n            data[column_name] = np.where(\\n                data[column_name].apply(type) == np.ndarray,\\n                code[population_max],\\n                data[column_name],\\n            )\\n\\n    return data\\n\\n\\nrace_mode(df, \\\"race\\\").head()\";\n",
       "                var nbb_cells = Jupyter.notebook.get_cells();\n",
       "                for (var i = 0; i < nbb_cells.length; ++i) {\n",
       "                    if (nbb_cells[i].input_prompt_number == nbb_cell_id) {\n",
       "                        if (nbb_cells[i].get_text() == nbb_unformatted_code) {\n",
       "                             nbb_cells[i].set_text(nbb_formatted_code);\n",
       "                        }\n",
       "                        break;\n",
       "                    }\n",
       "                }\n",
       "            }, 500);\n",
       "            "
      ],
      "text/plain": [
       "<IPython.core.display.Javascript object>"
      ]
     },
     "metadata": {},
     "output_type": "display_data"
    }
   ],
   "source": [
    "def population_proportion(df):\n",
    "    \"\"\"Calculate the proportion of races in the population of each state\"\"\"\n",
    "    for column_name in df.columns:\n",
    "        df[column_name + \"_prop,%\"] = (\n",
    "            df[column_name] * 100 / population[\"Total:\"]\n",
    "        ).round(2)\n",
    "    return df\n",
    "\n",
    "\n",
    "pop = population_proportion(population)\n",
    "pop = population.drop(\n",
    "    [\"White\", \"Black\", \"Asian\", \"Native American\", \"Other race\", \"Total:_prop,%\"],\n",
    "    axis=1,\n",
    ")\n",
    "pop.head()"
   ]
  },
  {
   "cell_type": "markdown",
   "id": "327bd3c7",
   "metadata": {},
   "source": [
    "*  Now we have population demographic proportions in states and  we can check our police shooting dataset for 'race' missing values. Use mode to replace missing values in every state. If mode reveals that there are more races with the same values - we take the value from our population proportion dataset."
   ]
  },
  {
   "cell_type": "code",
   "execution_count": 246,
   "id": "bc3271cd",
   "metadata": {
    "scrolled": true
   },
   "outputs": [
    {
     "data": {
      "text/html": [
       "<div>\n",
       "<style scoped>\n",
       "    .dataframe tbody tr th:only-of-type {\n",
       "        vertical-align: middle;\n",
       "    }\n",
       "\n",
       "    .dataframe tbody tr th {\n",
       "        vertical-align: top;\n",
       "    }\n",
       "\n",
       "    .dataframe thead th {\n",
       "        text-align: right;\n",
       "    }\n",
       "</style>\n",
       "<table border=\"1\" class=\"dataframe\">\n",
       "  <thead>\n",
       "    <tr style=\"text-align: right;\">\n",
       "      <th></th>\n",
       "      <th>name</th>\n",
       "      <th>date</th>\n",
       "      <th>manner_of_death</th>\n",
       "      <th>armed</th>\n",
       "      <th>age</th>\n",
       "      <th>gender</th>\n",
       "      <th>race</th>\n",
       "      <th>city</th>\n",
       "      <th>state</th>\n",
       "      <th>state_name</th>\n",
       "      <th>signs_of_mental_illness</th>\n",
       "      <th>threat_level</th>\n",
       "      <th>flee</th>\n",
       "      <th>body_camera</th>\n",
       "      <th>age_group</th>\n",
       "    </tr>\n",
       "  </thead>\n",
       "  <tbody>\n",
       "    <tr>\n",
       "      <th>0</th>\n",
       "      <td>Tim Elliot</td>\n",
       "      <td>2015</td>\n",
       "      <td>shot</td>\n",
       "      <td>gun</td>\n",
       "      <td>53.0</td>\n",
       "      <td>M</td>\n",
       "      <td>A</td>\n",
       "      <td>Shelton</td>\n",
       "      <td>WA</td>\n",
       "      <td>Washington</td>\n",
       "      <td>True</td>\n",
       "      <td>attack</td>\n",
       "      <td>Not fleeing</td>\n",
       "      <td>False</td>\n",
       "      <td>50-59</td>\n",
       "    </tr>\n",
       "    <tr>\n",
       "      <th>1</th>\n",
       "      <td>Lewis Lee Lembke</td>\n",
       "      <td>2015</td>\n",
       "      <td>shot</td>\n",
       "      <td>gun</td>\n",
       "      <td>47.0</td>\n",
       "      <td>M</td>\n",
       "      <td>W</td>\n",
       "      <td>Aloha</td>\n",
       "      <td>OR</td>\n",
       "      <td>Oregon</td>\n",
       "      <td>False</td>\n",
       "      <td>attack</td>\n",
       "      <td>Not fleeing</td>\n",
       "      <td>False</td>\n",
       "      <td>40-49</td>\n",
       "    </tr>\n",
       "    <tr>\n",
       "      <th>2</th>\n",
       "      <td>John Paul Quintero</td>\n",
       "      <td>2015</td>\n",
       "      <td>shot and Tasered</td>\n",
       "      <td>unarmed</td>\n",
       "      <td>23.0</td>\n",
       "      <td>M</td>\n",
       "      <td>H</td>\n",
       "      <td>Wichita</td>\n",
       "      <td>KS</td>\n",
       "      <td>Kansas</td>\n",
       "      <td>False</td>\n",
       "      <td>other</td>\n",
       "      <td>Not fleeing</td>\n",
       "      <td>False</td>\n",
       "      <td>20-29</td>\n",
       "    </tr>\n",
       "    <tr>\n",
       "      <th>3</th>\n",
       "      <td>Matthew Hoffman</td>\n",
       "      <td>2015</td>\n",
       "      <td>shot</td>\n",
       "      <td>toy weapon</td>\n",
       "      <td>32.0</td>\n",
       "      <td>M</td>\n",
       "      <td>W</td>\n",
       "      <td>San Francisco</td>\n",
       "      <td>CA</td>\n",
       "      <td>California</td>\n",
       "      <td>True</td>\n",
       "      <td>attack</td>\n",
       "      <td>Not fleeing</td>\n",
       "      <td>False</td>\n",
       "      <td>30-39</td>\n",
       "    </tr>\n",
       "    <tr>\n",
       "      <th>4</th>\n",
       "      <td>Michael Rodriguez</td>\n",
       "      <td>2015</td>\n",
       "      <td>shot</td>\n",
       "      <td>nail gun</td>\n",
       "      <td>39.0</td>\n",
       "      <td>M</td>\n",
       "      <td>H</td>\n",
       "      <td>Evans</td>\n",
       "      <td>CO</td>\n",
       "      <td>Colorado</td>\n",
       "      <td>False</td>\n",
       "      <td>attack</td>\n",
       "      <td>Not fleeing</td>\n",
       "      <td>False</td>\n",
       "      <td>30-39</td>\n",
       "    </tr>\n",
       "  </tbody>\n",
       "</table>\n",
       "</div>"
      ],
      "text/plain": [
       "                 name  date   manner_of_death       armed   age gender race  \\\n",
       "0          Tim Elliot  2015              shot         gun  53.0      M    A   \n",
       "1    Lewis Lee Lembke  2015              shot         gun  47.0      M    W   \n",
       "2  John Paul Quintero  2015  shot and Tasered     unarmed  23.0      M    H   \n",
       "3     Matthew Hoffman  2015              shot  toy weapon  32.0      M    W   \n",
       "4   Michael Rodriguez  2015              shot    nail gun  39.0      M    H   \n",
       "\n",
       "            city state  state_name  signs_of_mental_illness threat_level  \\\n",
       "0        Shelton    WA  Washington                     True       attack   \n",
       "1          Aloha    OR      Oregon                    False       attack   \n",
       "2        Wichita    KS      Kansas                    False        other   \n",
       "3  San Francisco    CA  California                     True       attack   \n",
       "4          Evans    CO    Colorado                    False       attack   \n",
       "\n",
       "          flee  body_camera age_group  \n",
       "0  Not fleeing        False     50-59  \n",
       "1  Not fleeing        False     40-49  \n",
       "2  Not fleeing        False     20-29  \n",
       "3  Not fleeing        False     30-39  \n",
       "4  Not fleeing        False     30-39  "
      ]
     },
     "execution_count": 246,
     "metadata": {},
     "output_type": "execute_result"
    },
    {
     "data": {
      "application/javascript": [
       "\n",
       "            setTimeout(function() {\n",
       "                var nbb_cell_id = 245;\n",
       "                var nbb_unformatted_code = \"def race_mode(data, column_name):\\n    '''Calculate the mode: the most frequent race appearance in each state. If races are of equal frequency - \\n    take the most popular race in the state, from census dataset '''\\n    race_mode = data.groupby(\\\"state_name\\\")[column_name].agg(pd.Series.mode)\\n    data[column_name].fillna(data[\\\"state_name\\\"].map(race_mode), inplace=True)\\n    is_array = race_mode.apply(lambda x: isinstance(x, np.ndarray))\\n    state_names = race_mode[is_array].index\\n    code = {\\n        \\\"White_prop,%\\\": \\\"W\\\",\\n        \\\"Black_prop,%\\\": \\\"B\\\",\\n        \\\"Asian_prop,%\\\": \\\"A\\\",\\n        \\\"Native American_prop,%\\\": \\\"N\\\",\\n        \\\"Other race_prop,%\\\": \\\"O\\\",\\n    }\\n    for i in state_names:\\n        population_max = pop.loc[i].iloc[1:].idxmax()\\n        if (data[\\\"state_name\\\"].isin(state_names)).any() & (\\n            population_max in code.keys()\\n        ):\\n            data[column_name] = np.where(\\n                data[column_name].apply(type) == np.ndarray,\\n                code[population_max],\\n                data[column_name],\\n            )\\n\\n    return data\\n\\n\\nrace_mode(df, \\\"race\\\").head()\";\n",
       "                var nbb_formatted_code = \"def race_mode(data, column_name):\\n    \\\"\\\"\\\"Calculate the mode: the most frequent race appearance in each state. If races are of equal frequency -\\n    take the most popular race in the state, from census dataset\\\"\\\"\\\"\\n    race_mode = data.groupby(\\\"state_name\\\")[column_name].agg(pd.Series.mode)\\n    data[column_name].fillna(data[\\\"state_name\\\"].map(race_mode), inplace=True)\\n    is_array = race_mode.apply(lambda x: isinstance(x, np.ndarray))\\n    state_names = race_mode[is_array].index\\n    code = {\\n        \\\"White_prop,%\\\": \\\"W\\\",\\n        \\\"Black_prop,%\\\": \\\"B\\\",\\n        \\\"Asian_prop,%\\\": \\\"A\\\",\\n        \\\"Native American_prop,%\\\": \\\"N\\\",\\n        \\\"Other race_prop,%\\\": \\\"O\\\",\\n    }\\n    for i in state_names:\\n        population_max = pop.loc[i].iloc[1:].idxmax()\\n        if (data[\\\"state_name\\\"].isin(state_names)).any() & (\\n            population_max in code.keys()\\n        ):\\n            data[column_name] = np.where(\\n                data[column_name].apply(type) == np.ndarray,\\n                code[population_max],\\n                data[column_name],\\n            )\\n\\n    return data\\n\\n\\nrace_mode(df, \\\"race\\\").head()\";\n",
       "                var nbb_cells = Jupyter.notebook.get_cells();\n",
       "                for (var i = 0; i < nbb_cells.length; ++i) {\n",
       "                    if (nbb_cells[i].input_prompt_number == nbb_cell_id) {\n",
       "                        if (nbb_cells[i].get_text() == nbb_unformatted_code) {\n",
       "                             nbb_cells[i].set_text(nbb_formatted_code);\n",
       "                        }\n",
       "                        break;\n",
       "                    }\n",
       "                }\n",
       "            }, 500);\n",
       "            "
      ],
      "text/plain": [
       "<IPython.core.display.Javascript object>"
      ]
     },
     "metadata": {},
     "output_type": "display_data"
    }
   ],
   "source": [
    "def race_mode(data, column_name):\n",
    "    \"\"\"Calculate the mode: the most frequent race appearance in each state. If races are of equal frequency -\n",
    "    take the most popular race in the state, from census dataset. Fill the missing values accordingly\"\"\"\n",
    "    race_mode = data.groupby(\"state_name\")[column_name].agg(pd.Series.mode)\n",
    "    data[column_name].fillna(data[\"state_name\"].map(race_mode), inplace=True)\n",
    "    is_array = race_mode.apply(lambda x: isinstance(x, np.ndarray))\n",
    "    state_names = race_mode[is_array].index\n",
    "    code = {\n",
    "        \"White_prop,%\": \"W\",\n",
    "        \"Black_prop,%\": \"B\",\n",
    "        \"Asian_prop,%\": \"A\",\n",
    "        \"Native American_prop,%\": \"N\",\n",
    "        \"Other race_prop,%\": \"O\",\n",
    "    }\n",
    "    for i in state_names:\n",
    "        population_max = pop.loc[i].iloc[1:].idxmax()\n",
    "        if (data[\"state_name\"].isin(state_names)).any() & (\n",
    "            population_max in code.keys()\n",
    "        ):\n",
    "            data[column_name] = np.where(\n",
    "                data[column_name].apply(type) == np.ndarray,\n",
    "                code[population_max],\n",
    "                data[column_name],\n",
    "            )\n",
    "\n",
    "    return data\n",
    "\n",
    "\n",
    "race_mode(df, \"race\").head()"
   ]
  },
  {
   "cell_type": "markdown",
   "id": "dbae6269",
   "metadata": {},
   "source": [
    "* Let's check how many victims there are in racial aspect:"
   ]
  },
  {
   "cell_type": "code",
   "execution_count": 207,
   "id": "e64f722d",
   "metadata": {
    "scrolled": true
   },
   "outputs": [
    {
     "data": {
      "image/png": "[encoded data removed]",
      "text/plain": [
       "<Figure size 800x300 with 1 Axes>"
      ]
     },
     "metadata": {},
     "output_type": "display_data"
    },
    {
     "data": {
      "application/javascript": [
       "\n",
       "            setTimeout(function() {\n",
       "                var nbb_cell_id = 206;\n",
       "                var nbb_unformatted_code = \"plt.figure(figsize=(8, 3))\\nrace_plot = sns.countplot(x='race', data=df, palette=\\\"deep\\\", linewidth=0.5, order=df['race'].value_counts().index)\\ncounts = df['race'].value_counts(sort=True)\\nfor i in range(len(counts)):\\n    race_plot.text(i,counts[i]+2.5,counts[i],\\n                  fontdict=dict(color='k',fontsize=10),\\n                  horizontalalignment='center',\\n                  alpha=0.7)\\nrace_plot.set_xticklabels(['White','Black','Hispanic','Asian','Other race','Native American'])\\nplt.xlabel('Race')\\nrace_plot.set(yticks=[], ylabel=\\\"\\\")\\nplt.title('Number of victims by race', alpha=0.8)\\nfor spine in plt.gca().spines.values():\\n    spine.set_visible(False)\\nplt.show()\";\n",
       "                var nbb_formatted_code = \"plt.figure(figsize=(8, 3))\\nrace_plot = sns.countplot(\\n    x=\\\"race\\\",\\n    data=df,\\n    palette=\\\"deep\\\",\\n    linewidth=0.5,\\n    order=df[\\\"race\\\"].value_counts().index,\\n)\\ncounts = df[\\\"race\\\"].value_counts(sort=True)\\nfor i in range(len(counts)):\\n    race_plot.text(\\n        i,\\n        counts[i] + 2.5,\\n        counts[i],\\n        fontdict=dict(color=\\\"k\\\", fontsize=10),\\n        horizontalalignment=\\\"center\\\",\\n        alpha=0.7,\\n    )\\nrace_plot.set_xticklabels(\\n    [\\\"White\\\", \\\"Black\\\", \\\"Hispanic\\\", \\\"Asian\\\", \\\"Other race\\\", \\\"Native American\\\"]\\n)\\nplt.xlabel(\\\"Race\\\")\\nrace_plot.set(yticks=[], ylabel=\\\"\\\")\\nplt.title(\\\"Number of victims by race\\\", alpha=0.8)\\nfor spine in plt.gca().spines.values():\\n    spine.set_visible(False)\\nplt.show()\";\n",
       "                var nbb_cells = Jupyter.notebook.get_cells();\n",
       "                for (var i = 0; i < nbb_cells.length; ++i) {\n",
       "                    if (nbb_cells[i].input_prompt_number == nbb_cell_id) {\n",
       "                        if (nbb_cells[i].get_text() == nbb_unformatted_code) {\n",
       "                             nbb_cells[i].set_text(nbb_formatted_code);\n",
       "                        }\n",
       "                        break;\n",
       "                    }\n",
       "                }\n",
       "            }, 500);\n",
       "            "
      ],
      "text/plain": [
       "<IPython.core.display.Javascript object>"
      ]
     },
     "metadata": {},
     "output_type": "display_data"
    }
   ],
   "source": [
    "plt.figure(figsize=(8, 3))\n",
    "race_plot = sns.countplot(\n",
    "    x=\"race\",\n",
    "    data=df,\n",
    "    palette=\"deep\",\n",
    "    linewidth=0.5,\n",
    "    order=df[\"race\"].value_counts().index,\n",
    ")\n",
    "counts = df[\"race\"].value_counts(sort=True)\n",
    "for i in range(len(counts)):\n",
    "    race_plot.text(\n",
    "        i,\n",
    "        counts[i] + 3,\n",
    "        counts[i],\n",
    "        fontdict=dict(color=\"k\", fontsize=10),\n",
    "        horizontalalignment=\"center\",\n",
    "        alpha=0.7,\n",
    "    )\n",
    "race_plot.set_xticklabels(\n",
    "    [\"White\", \"Black\", \"Hispanic\", \"Asian\", \"Other race\", \"Native American\"]\n",
    ")\n",
    "plt.xlabel(\"Race\")\n",
    "race_plot.set(yticks=[], ylabel=\"\")\n",
    "plt.title(\"Number of victims by race\", alpha=0.8)\n",
    "for spine in plt.gca().spines.values():\n",
    "    spine.set_visible(False)\n",
    "plt.show()"
   ]
  },
  {
   "cell_type": "markdown",
   "id": "dde80d08",
   "metadata": {},
   "source": [
    "If we compare the number of victims, this would be consistent with the overall representation of the population in the USA, where the majority of the population is white, but this would not be correct if we look at the racial distribution of the population. Police brutality is thought to be more pronounced in populated areas where unemployment is high or where the overall wealth of the state is lowest."
   ]
  },
  {
   "cell_type": "code",
   "execution_count": 208,
   "id": "1c3e7be1",
   "metadata": {},
   "outputs": [
    {
     "name": "stdout",
     "output_type": "stream",
     "text": [
      "White Population Number in USA:  204837865\n",
      "Black Population Number in USA:  41332911\n",
      "Asian Population Number in USA:  19890050\n",
      "Other race (including hispanic) Population Number in USA:  64238765\n",
      "Native Population Number in USA:  4435564\n"
     ]
    },
    {
     "data": {
      "application/javascript": [
       "\n",
       "            setTimeout(function() {\n",
       "                var nbb_cell_id = 207;\n",
       "                var nbb_unformatted_code = \"plt.figure(figsize=(8, 3))\\nrace_plot = sns.countplot(x='race', data=df, palette=\\\"deep\\\", linewidth=0.5, order=df['race'].value_counts().index)\\ncounts = df['race'].value_counts(sort=True)\\nfor i in range(len(counts)):\\n    race_plot.text(i,counts[i]+3,counts[i],\\n                  fontdict=dict(color='k',fontsize=10),\\n                  horizontalalignment='center',\\n                  alpha=0.7)\\nrace_plot.set_xticklabels(['White','Black','Hispanic','Asian','Other race','Native American'])\\nplt.xlabel('Race')\\nrace_plot.set(yticks=[], ylabel=\\\"\\\")\\nplt.title('Number of victims by race', alpha=0.8)\\nfor spine in plt.gca().spines.values():\\n    spine.set_visible(False)\\nplt.show()\";\n",
       "                var nbb_formatted_code = \"plt.figure(figsize=(8, 3))\\nrace_plot = sns.countplot(\\n    x=\\\"race\\\",\\n    data=df,\\n    palette=\\\"deep\\\",\\n    linewidth=0.5,\\n    order=df[\\\"race\\\"].value_counts().index,\\n)\\ncounts = df[\\\"race\\\"].value_counts(sort=True)\\nfor i in range(len(counts)):\\n    race_plot.text(\\n        i,\\n        counts[i] + 3,\\n        counts[i],\\n        fontdict=dict(color=\\\"k\\\", fontsize=10),\\n        horizontalalignment=\\\"center\\\",\\n        alpha=0.7,\\n    )\\nrace_plot.set_xticklabels(\\n    [\\\"White\\\", \\\"Black\\\", \\\"Hispanic\\\", \\\"Asian\\\", \\\"Other race\\\", \\\"Native American\\\"]\\n)\\nplt.xlabel(\\\"Race\\\")\\nrace_plot.set(yticks=[], ylabel=\\\"\\\")\\nplt.title(\\\"Number of victims by race\\\", alpha=0.8)\\nfor spine in plt.gca().spines.values():\\n    spine.set_visible(False)\\nplt.show()\";\n",
       "                var nbb_cells = Jupyter.notebook.get_cells();\n",
       "                for (var i = 0; i < nbb_cells.length; ++i) {\n",
       "                    if (nbb_cells[i].input_prompt_number == nbb_cell_id) {\n",
       "                        if (nbb_cells[i].get_text() == nbb_unformatted_code) {\n",
       "                             nbb_cells[i].set_text(nbb_formatted_code);\n",
       "                        }\n",
       "                        break;\n",
       "                    }\n",
       "                }\n",
       "            }, 500);\n",
       "            "
      ],
      "text/plain": [
       "<IPython.core.display.Javascript object>"
      ]
     },
     "metadata": {},
     "output_type": "display_data"
    }
   ],
   "source": [
    "print(\"White Population Number in USA: \", population[\"White\"].sum())\n",
    "print(\"Black Population Number in USA: \", population[\"Black\"].sum())\n",
    "print(\"Asian Population Number in USA: \", population[\"Asian\"].sum())\n",
    "print(\n",
    "    \"Other race (including hispanic) Population Number in USA: \",\n",
    "    population[\"Other race\"].sum(),\n",
    ")\n",
    "print(\"Native Population Number in USA: \", population[\"Native American\"].sum())"
   ]
  },
  {
   "cell_type": "markdown",
   "id": "103ea17c",
   "metadata": {},
   "source": [
    "* Let's check how is the number of victims reflected in the racial distribution of the US:"
   ]
  },
  {
   "cell_type": "code",
   "execution_count": 220,
   "id": "9534bfea",
   "metadata": {},
   "outputs": [
    {
     "data": {
      "image/png": "[encoded data removed]",
      "text/plain": [
       "<Figure size 900x300 with 1 Axes>"
      ]
     },
     "metadata": {},
     "output_type": "display_data"
    },
    {
     "data": {
      "application/javascript": [
       "\n",
       "            setTimeout(function() {\n",
       "                var nbb_cell_id = 219;\n",
       "                var nbb_unformatted_code = \"def calculate_proportions(kill_data, census_data):\\n    \\\"\\\"\\\"Function calculates races from police shooting dataset and in total population census dataset proportions\\\"\\\"\\\"\\n    proportion_w = (\\n        kill_data[\\\"race\\\"].value_counts()[\\\"W\\\"] * 100 / census_data[\\\"White\\\"].sum()\\n    )\\n    proportion_b = (\\n        kill_data[\\\"race\\\"].value_counts()[\\\"B\\\"] * 100 / census_data[\\\"Black\\\"].sum()\\n    )\\n    proportion_a = (\\n        kill_data[\\\"race\\\"].value_counts()[\\\"A\\\"] * 100 / census_data[\\\"Asian\\\"].sum()\\n    )\\n    proportion_h_o = (\\n        (\\n            (kill_data[\\\"race\\\"].value_counts()[\\\"H\\\"])\\n            + (kill_data[\\\"race\\\"].value_counts()[\\\"O\\\"])\\n        )\\n        * 100\\n        / (census_data[\\\"Other race\\\"].sum())\\n    )\\n    proportion_n = (\\n        kill_data[\\\"race\\\"].value_counts()[\\\"N\\\"]\\n        * 100\\n        / census_data[\\\"Native American\\\"].sum()\\n    )\\n    data_total = {\\n        \\\"proportion,%\\\": [\\n            proportion_w,\\n            proportion_b,\\n            proportion_a,\\n            proportion_h_o,\\n            proportion_n,\\n        ]\\n    }\\n    labels = \\\"W\\\", \\\"B\\\", \\\"A\\\", \\\"H/O\\\", \\\"N\\\"\\n    proportion = pd.DataFrame(data=data_total, index=labels)\\n    return proportion\\n\\n\\nracial_proportion = calculate_proportions(df, population)\\nracial_proportion_sorted = racial_proportion.sort_values(\\n    by=\\\"proportion,%\\\", ascending=False\\n).T\\nplt.figure(figsize=(9, 3))\\nrace_prop = sns.barplot(data=racial_proportion_sorted, palette=\\\"deep\\\", linewidth=0.5)\\nrace_prop.set_xticklabels(\\n    [\\\"Black\\\", \\\"Hispanic/Other\\\", \\\"Native American\\\", \\\"White\\\", \\\"Asian\\\"]\\n)\\nfor i in race_prop.patches:\\n    race_prop.annotate(\\n        f\\\"{i.get_height():.5f}%\\\",\\n        (i.get_x() + i.get_width() +2., i.get_height()),\\n        ha=\\\"center\\\",\\n        va=\\\"center\\\",\\n        xytext=(0, 10),\\n        textcoords=\\\"offset points\\\",\\n    )\\n\\nrace_prop.set(yticks=[], ylabel=\\\"\\\")\\nplt.xlabel(\\\"Race\\\")\\nplt.title(\\\"Number of victims by race, in proportion to all population\\\", alpha=0.8)\\nfor spine in plt.gca().spines.values():\\n    spine.set_visible(False)\";\n",
       "                var nbb_formatted_code = \"def calculate_proportions(kill_data, census_data):\\n    \\\"\\\"\\\"Function calculates races from police shooting dataset and in total population census dataset proportions\\\"\\\"\\\"\\n    proportion_w = (\\n        kill_data[\\\"race\\\"].value_counts()[\\\"W\\\"] * 100 / census_data[\\\"White\\\"].sum()\\n    )\\n    proportion_b = (\\n        kill_data[\\\"race\\\"].value_counts()[\\\"B\\\"] * 100 / census_data[\\\"Black\\\"].sum()\\n    )\\n    proportion_a = (\\n        kill_data[\\\"race\\\"].value_counts()[\\\"A\\\"] * 100 / census_data[\\\"Asian\\\"].sum()\\n    )\\n    proportion_h_o = (\\n        (\\n            (kill_data[\\\"race\\\"].value_counts()[\\\"H\\\"])\\n            + (kill_data[\\\"race\\\"].value_counts()[\\\"O\\\"])\\n        )\\n        * 100\\n        / (census_data[\\\"Other race\\\"].sum())\\n    )\\n    proportion_n = (\\n        kill_data[\\\"race\\\"].value_counts()[\\\"N\\\"]\\n        * 100\\n        / census_data[\\\"Native American\\\"].sum()\\n    )\\n    data_total = {\\n        \\\"proportion,%\\\": [\\n            proportion_w,\\n            proportion_b,\\n            proportion_a,\\n            proportion_h_o,\\n            proportion_n,\\n        ]\\n    }\\n    labels = \\\"W\\\", \\\"B\\\", \\\"A\\\", \\\"H/O\\\", \\\"N\\\"\\n    proportion = pd.DataFrame(data=data_total, index=labels)\\n    return proportion\\n\\n\\nracial_proportion = calculate_proportions(df, population)\\nracial_proportion_sorted = racial_proportion.sort_values(\\n    by=\\\"proportion,%\\\", ascending=False\\n).T\\nplt.figure(figsize=(9, 3))\\nrace_prop = sns.barplot(data=racial_proportion_sorted, palette=\\\"deep\\\", linewidth=0.5)\\nrace_prop.set_xticklabels(\\n    [\\\"Black\\\", \\\"Hispanic/Other\\\", \\\"Native American\\\", \\\"White\\\", \\\"Asian\\\"]\\n)\\nfor i in race_prop.patches:\\n    race_prop.annotate(\\n        f\\\"{i.get_height():.5f}%\\\",\\n        (i.get_x() + i.get_width() + 2.0, i.get_height()),\\n        ha=\\\"center\\\",\\n        va=\\\"center\\\",\\n        xytext=(0, 10),\\n        textcoords=\\\"offset points\\\",\\n    )\\n\\nrace_prop.set(yticks=[], ylabel=\\\"\\\")\\nplt.xlabel(\\\"Race\\\")\\nplt.title(\\\"Number of victims by race, in proportion to all population\\\", alpha=0.8)\\nfor spine in plt.gca().spines.values():\\n    spine.set_visible(False)\";\n",
       "                var nbb_cells = Jupyter.notebook.get_cells();\n",
       "                for (var i = 0; i < nbb_cells.length; ++i) {\n",
       "                    if (nbb_cells[i].input_prompt_number == nbb_cell_id) {\n",
       "                        if (nbb_cells[i].get_text() == nbb_unformatted_code) {\n",
       "                             nbb_cells[i].set_text(nbb_formatted_code);\n",
       "                        }\n",
       "                        break;\n",
       "                    }\n",
       "                }\n",
       "            }, 500);\n",
       "            "
      ],
      "text/plain": [
       "<IPython.core.display.Javascript object>"
      ]
     },
     "metadata": {},
     "output_type": "display_data"
    }
   ],
   "source": [
    "def calculate_proportions(kill_data, census_data):\n",
    "    \"\"\"Function calculates races from police shooting dataset and in total population census dataset proportions\"\"\"\n",
    "    proportion_w = (\n",
    "        kill_data[\"race\"].value_counts()[\"W\"] * 100 / census_data[\"White\"].sum()\n",
    "    )\n",
    "    proportion_b = (\n",
    "        kill_data[\"race\"].value_counts()[\"B\"] * 100 / census_data[\"Black\"].sum()\n",
    "    )\n",
    "    proportion_a = (\n",
    "        kill_data[\"race\"].value_counts()[\"A\"] * 100 / census_data[\"Asian\"].sum()\n",
    "    )\n",
    "    proportion_h_o = (\n",
    "        (\n",
    "            (kill_data[\"race\"].value_counts()[\"H\"])\n",
    "            + (kill_data[\"race\"].value_counts()[\"O\"])\n",
    "        )\n",
    "        * 100\n",
    "        / (census_data[\"Other race\"].sum())\n",
    "    )\n",
    "    proportion_n = (\n",
    "        kill_data[\"race\"].value_counts()[\"N\"]\n",
    "        * 100\n",
    "        / census_data[\"Native American\"].sum()\n",
    "    )\n",
    "    data_total = {\n",
    "        \"proportion,%\": [\n",
    "            proportion_w,\n",
    "            proportion_b,\n",
    "            proportion_a,\n",
    "            proportion_h_o,\n",
    "            proportion_n,\n",
    "        ]\n",
    "    }\n",
    "    labels = \"W\", \"B\", \"A\", \"H/O\", \"N\"\n",
    "    proportion = pd.DataFrame(data=data_total, index=labels)\n",
    "    return proportion\n",
    "\n",
    "\n",
    "racial_proportion = calculate_proportions(df, population)\n",
    "racial_proportion_sorted = racial_proportion.sort_values(\n",
    "    by=\"proportion,%\", ascending=False\n",
    ").T\n",
    "plt.figure(figsize=(9, 3))\n",
    "race_prop = sns.barplot(data=racial_proportion_sorted, palette=\"deep\", linewidth=0.5)\n",
    "race_prop.set_xticklabels(\n",
    "    [\"Black\", \"Hispanic/Other\", \"Native American\", \"White\", \"Asian\"]\n",
    ")\n",
    "for i in race_prop.patches:\n",
    "    race_prop.annotate(\n",
    "        f\"{i.get_height():.5f}%\",\n",
    "        (i.get_x() + i.get_width() / 2.0, i.get_height()),\n",
    "        ha=\"center\",\n",
    "        va=\"center\",\n",
    "        xytext=(0, 10),\n",
    "        textcoords=\"offset points\",\n",
    "    )\n",
    "\n",
    "race_prop.set(yticks=[], ylabel=\"\")\n",
    "plt.xlabel(\"Race\")\n",
    "plt.title(\"Number of victims by race, in proportion to all population\", alpha=0.8)\n",
    "for spine in plt.gca().spines.values():\n",
    "    spine.set_visible(False)"
   ]
  },
  {
   "cell_type": "markdown",
   "id": "039835a8",
   "metadata": {
    "scrolled": true
   },
   "source": [
    "Conclusion: <br>\n",
    "* As we can see from the graph, the number of victims is clearly dominated by Black race, so the Black lives matter movement and the resulting protests certainly have merit."
   ]
  },
  {
   "cell_type": "markdown",
   "id": "1fd2743b",
   "metadata": {},
   "source": [
    "### How Was the Victim Armed or Unarmed, What Caused the Fatal Incident?"
   ]
  },
  {
   "cell_type": "markdown",
   "id": "476553e8",
   "metadata": {},
   "source": [
    "* Let's choose the top 10 ways how victims were armed (or not):"
   ]
  },
  {
   "cell_type": "code",
   "execution_count": 244,
   "id": "6ac0558a",
   "metadata": {},
   "outputs": [
    {
     "data": {
      "image/png": "[encoded data removed]",
      "text/plain": [
       "<Figure size 800x600 with 1 Axes>"
      ]
     },
     "metadata": {},
     "output_type": "display_data"
    },
    {
     "data": {
      "application/javascript": [
       "\n",
       "            setTimeout(function() {\n",
       "                var nbb_cell_id = 243;\n",
       "                var nbb_unformatted_code = \"weapon = df[\\\"armed\\\"].value_counts()[:10]\\nplt.figure(figsize=(8, 6))\\nbars = plt.bar(weapon.index, weapon.values)\\nfor i, bar in enumerate(bars):\\n    plt.text(\\n        bar.get_x() + bar.get_width() / 2,\\n        bar.get_height(),\\n        weapon.values[i],\\n        xytext=(0, 10),\\n        fontdict=dict(color=\\\"k\\\", fontsize=10),\\n        horizontalalignment=\\\"center\\\",\\n        alpha=0.7,\\n    )\\nplt.title(\\\"The 10 most common weapons in the possession of victims\\\")\\nplt.xlabel(\\\"Weapon Type\\\")\\nplt.yticks([])\\nplt.xticks(rotation=45)\\nfor spine in plt.gca().spines.values():\\n    spine.set_visible(False)\";\n",
       "                var nbb_formatted_code = \"weapon = df[\\\"armed\\\"].value_counts()[:10]\\nplt.figure(figsize=(8, 6))\\nbars = plt.bar(weapon.index, weapon.values)\\nfor i, bar in enumerate(bars):\\n    plt.text(\\n        bar.get_x() + bar.get_width() / 2,\\n        bar.get_height(),\\n        weapon.values[i],\\n        xytext=(0, 10),\\n        fontdict=dict(color=\\\"k\\\", fontsize=10),\\n        horizontalalignment=\\\"center\\\",\\n        alpha=0.7,\\n    )\\nplt.title(\\\"The 10 most common weapons in the possession of victims\\\")\\nplt.xlabel(\\\"Weapon Type\\\")\\nplt.yticks([])\\nplt.xticks(rotation=45)\\nfor spine in plt.gca().spines.values():\\n    spine.set_visible(False)\";\n",
       "                var nbb_cells = Jupyter.notebook.get_cells();\n",
       "                for (var i = 0; i < nbb_cells.length; ++i) {\n",
       "                    if (nbb_cells[i].input_prompt_number == nbb_cell_id) {\n",
       "                        if (nbb_cells[i].get_text() == nbb_unformatted_code) {\n",
       "                             nbb_cells[i].set_text(nbb_formatted_code);\n",
       "                        }\n",
       "                        break;\n",
       "                    }\n",
       "                }\n",
       "            }, 500);\n",
       "            "
      ],
      "text/plain": [
       "<IPython.core.display.Javascript object>"
      ]
     },
     "metadata": {},
     "output_type": "display_data"
    }
   ],
   "source": [
    "weapon = df[\"armed\"].value_counts()[:10]\n",
    "plt.figure(figsize=(8, 6))\n",
    "bars = plt.bar(weapon.index, weapon.values)\n",
    "for i, bar in enumerate(bars):\n",
    "    plt.text(\n",
    "        bar.get_x() + bar.get_width() / 2,\n",
    "        bar.get_height(),\n",
    "        weapon.values[i],\n",
    "        fontdict=dict(color=\"k\", fontsize=10),\n",
    "        horizontalalignment=\"center\",\n",
    "        alpha=0.7,\n",
    "    )\n",
    "plt.title(\"The 10 most common weapons in the possession of victims\")\n",
    "plt.xlabel(\"Weapon Type\")\n",
    "plt.yticks([])\n",
    "plt.xticks(rotation=45)\n",
    "for spine in plt.gca().spines.values():\n",
    "    spine.set_visible(False)"
   ]
  },
  {
   "cell_type": "markdown",
   "id": "b1558d4a",
   "metadata": {},
   "source": [
    "Conclusion:\n",
    "* as we can see, most of the victims were armed, which may partly justify the reaction of the officer as an act of self-defence. However, cases where the victims were unarmed or the weapon was unidentified are not uncommon, and the existence of such victims should be investigated in order to avoid this in the future."
   ]
  },
  {
   "cell_type": "markdown",
   "id": "a0951d82",
   "metadata": {},
   "source": [
    "### What Affect is the Police Work Monitoring to the Victim Rate?"
   ]
  },
  {
   "cell_type": "markdown",
   "id": "cf31be52",
   "metadata": {},
   "source": [
    "* From the initial database we have been given, the body_camera column catches the eye: what is the impact of direct observation of a policeman's work?"
   ]
  },
  {
   "cell_type": "code",
   "execution_count": 218,
   "id": "5fe1d39c",
   "metadata": {},
   "outputs": [
    {
     "data": {
      "image/png": "[encoded data removed]",
      "text/plain": [
       "<Figure size 640x480 with 1 Axes>"
      ]
     },
     "metadata": {},
     "output_type": "display_data"
    },
    {
     "data": {
      "application/javascript": [
       "\n",
       "            setTimeout(function() {\n",
       "                var nbb_cell_id = 217;\n",
       "                var nbb_unformatted_code = \"camera = sns.countplot(x='body_camera', data=df, color='blue');\\nfor i in camera.patches:\\n    camera.annotate(f'{i.get_height():.0f}',\\n                (i.get_x() + i.get_width() / 2., i.get_height()), \\n                ha = 'center', va = 'center', xytext = (0, 10), \\n                textcoords = 'offset pixels')\\n\\ncamera.set(yticks=[], ylabel=\\\"\\\")\\nplt.xlabel('Body camera presence')\\nplt.title(\\\"Officer's body camera presence\\\")\\nfor spine in plt.gca().spines.values():\\n    spine.set_visible(False)\\nplt.show()\";\n",
       "                var nbb_formatted_code = \"camera = sns.countplot(x=\\\"body_camera\\\", data=df, color=\\\"blue\\\")\\nfor i in camera.patches:\\n    camera.annotate(\\n        f\\\"{i.get_height():.0f}\\\",\\n        (i.get_x() + i.get_width() / 2.0, i.get_height()),\\n        ha=\\\"center\\\",\\n        va=\\\"center\\\",\\n        xytext=(0, 10),\\n        textcoords=\\\"offset pixels\\\",\\n    )\\n\\ncamera.set(yticks=[], ylabel=\\\"\\\")\\nplt.xlabel(\\\"Body camera presence\\\")\\nplt.title(\\\"Officer's body camera presence\\\")\\nfor spine in plt.gca().spines.values():\\n    spine.set_visible(False)\\nplt.show()\";\n",
       "                var nbb_cells = Jupyter.notebook.get_cells();\n",
       "                for (var i = 0; i < nbb_cells.length; ++i) {\n",
       "                    if (nbb_cells[i].input_prompt_number == nbb_cell_id) {\n",
       "                        if (nbb_cells[i].get_text() == nbb_unformatted_code) {\n",
       "                             nbb_cells[i].set_text(nbb_formatted_code);\n",
       "                        }\n",
       "                        break;\n",
       "                    }\n",
       "                }\n",
       "            }, 500);\n",
       "            "
      ],
      "text/plain": [
       "<IPython.core.display.Javascript object>"
      ]
     },
     "metadata": {},
     "output_type": "display_data"
    }
   ],
   "source": [
    "camera = sns.countplot(x=\"body_camera\", data=df, palette=\"deep\")\n",
    "for i in camera.patches:\n",
    "    camera.annotate(\n",
    "        f\"{i.get_height():.0f}\",\n",
    "        (i.get_x() + i.get_width() / 2.0, i.get_height()),\n",
    "        ha=\"center\",\n",
    "        va=\"center\",\n",
    "        xytext=(0, 10),\n",
    "        textcoords=\"offset pixels\",\n",
    "    )\n",
    "\n",
    "camera.set(yticks=[], ylabel=\"\")\n",
    "plt.xlabel(\"Body camera presence\")\n",
    "plt.title(\"Officer's body camera presence\")\n",
    "for spine in plt.gca().spines.values():\n",
    "    spine.set_visible(False)"
   ]
  },
  {
   "cell_type": "markdown",
   "id": "a5b91f4b",
   "metadata": {},
   "source": [
    "Conclusion:\n",
    "* The data shows that police brutality can only be controlled by monitoring the working methods of the police. The presence of modern surveillance technologies not only controls the monitoring of the punitive methods used by the officers, but also allows for the tracking and analysis of the ways of preventing incidents. "
   ]
  },
  {
   "cell_type": "markdown",
   "id": "2cbd0365",
   "metadata": {},
   "source": [
    "## Conclusions:"
   ]
  },
  {
   "cell_type": "markdown",
   "id": "91257885",
   "metadata": {},
   "source": [
    "The Black Lives Matter movement in the US, which started in 2013, has led to a lot of outrage and additional questions about the use of police force. The purpose of the analysis was to find out whether brutality is really directed specifically at non-whites, and what might have caused such actions to occur.\n",
    "* The data show that, although the highest number of victims is among the white population, the proportion of the population reveals quite different figures: the highest proportions of victims are among the black and Hispanic population.\n",
    "* The next question is what might influence the number of incidents in the 20-40 year old male population. The most common hypothesis is that high unemployment and low wages increase the criminogenic situation. However, these hypotheses have not been confirmed, or have been partially confirmed: the unemployment rate and low hourly wages do not have an impact, but on the contrary, the state (California) which has the highest number of recorded fatal incidents offers one of the highest hourly wages. I believe that this factor is the biggest population pull factor in the number of incidents.\n",
    "* Another interesting fact: most deaths occur when the victim is armed with a firearm, as well as with other dangerous weapons, so that the officer's reaction can be justified as complacent. The large number of incidents (266) where the victim was unarmed and the weapon was not identified makes it necessary to look into the situation, and these incidents are grounds for indignation against police brutality.\n",
    "* The use of newer technologies (such as video cameras) shows a marked reduction in fatal incidents. This type of control is probably the most effective way of dealing with the legality of excessive use of force."
   ]
  },
  {
   "cell_type": "markdown",
   "id": "44bffe78",
   "metadata": {},
   "source": [
    "## Improvements:"
   ]
  },
  {
   "cell_type": "markdown",
   "id": "3f909deb",
   "metadata": {},
   "source": [
    "The racial aspects of the database should be expanded:\n",
    "* the race of the police officer who used the force that caused the fatal accident is not indicated. This aspect would significantly change the attitudes if the racial background is the main reason for the outrage in society. \n",
    "* It would also be interesting to examine whether the police stations have racial population proportions that reflect those of the existing in state population. "
   ]
  },
  {
   "cell_type": "markdown",
   "id": "6b1d4b3e",
   "metadata": {},
   "source": [
    "* To improve the graphical presentation of information and visualisation of the work, further development of the Seaborn, Matplotlib libraries is needed;<br>\n",
    "* further study of Pandas, Numpy is also needed to improve the quality of the code itself."
   ]
  },
  {
   "cell_type": "code",
   "execution_count": null,
   "id": "d6291c3c",
   "metadata": {},
   "outputs": [],
   "source": []
  }
 ],
 "metadata": {
  "kernelspec": {
   "display_name": "Python 3 (ipykernel)",
   "language": "python",
   "name": "python3"
  },
  "language_info": {
   "codemirror_mode": {
    "name": "ipython",
    "version": 3
   },
   "file_extension": ".py",
   "mimetype": "text/x-python",
   "name": "python",
   "nbconvert_exporter": "python",
   "pygments_lexer": "ipython3",
   "version": "3.9.13"
  }
 },
 "nbformat": 4,
 "nbformat_minor": 5
}
